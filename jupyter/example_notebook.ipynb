{
 "cells": [
  {
   "cell_type": "markdown",
   "id": "f28a6e79",
   "metadata": {},
   "source": [
    "# Example with dummy data\n",
    "\n",
    "This notebook shows a simplified use case utilizing a dummy set of randomly generated particle data. It is by default set to simulate a catalog of stars with Gaia DR2 astrometry & photometry, but you may change the parameters defined below to your liking. In short, the pipeline is accessible via the class `Ananke`, which method `run` can eventually be called after creation of an `Ananke` object to run the full ananke pipeline. The method `run` is designed to returns the catalog in the form of an `Output` object of the submodule `galaxia_ananke` which can be used as a `vaex` dataframe.\n",
    "\n",
    "Below are the packages that this notebook must import:"
   ]
  },
  {
   "cell_type": "code",
   "execution_count": 1,
   "id": "f130bf6c",
   "metadata": {},
   "outputs": [
    {
     "name": "stderr",
     "output_type": "stream",
     "text": [
      "WARNING: W02: ?:?:?: W02: '' is not a valid datatype according to the VOSI spec [pyvo.io.vosi.vodataservice]\n"
     ]
    },
    {
     "data": {
      "text/plain": [
       "'0.3.0+2.g7efc7c0'"
      ]
     },
     "execution_count": 1,
     "metadata": {},
     "output_type": "execute_result"
    }
   ],
   "source": [
    "import numpy as np\n",
    "import ananke as an\n",
    "an.__version__"
   ]
  },
  {
   "attachments": {},
   "cell_type": "markdown",
   "id": "d0809afe",
   "metadata": {},
   "source": [
    "We define here some dummy input data. `Ananke` has a method `make_dummy_particles_input` to produce such data in a dictionary formatted output. Below we show how to call it and the keys that compose that dictionary."
   ]
  },
  {
   "cell_type": "code",
   "execution_count": 2,
   "id": "f4dafbb1",
   "metadata": {},
   "outputs": [
    {
     "data": {
      "text/plain": [
       "dict_keys(['pos3', 'vel3', 'mass', 'age', 'feh', 'helium', 'carbon', 'nitrogen', 'oxygen', 'neon', 'magnesium', 'silicon', 'sulphur', 'calcium', 'alpha', 'parentid', 'partitionid', 'dform', 'id', 'log10_NH'])"
      ]
     },
     "execution_count": 2,
     "metadata": {},
     "output_type": "execute_result"
    }
   ],
   "source": [
    "np.random.seed(0)\n",
    "p = an.Ananke.make_dummy_particles_input()\n",
    "p.keys()"
   ]
  },
  {
   "cell_type": "markdown",
   "id": "51f0f1ae",
   "metadata": {},
   "source": [
    "The input data must be formatted as a dictionary of equal-length arrays. The dictionary must have the following entries:\n",
    "- key `pos3`: particle position coordinates in $kpc$ (shape Nx3)\n",
    "- key `vel3`: particle velocity coordinates in $km.s^{-1}$ (shape Nx3)\n",
    "- key `mass`: particle stellar mass in solar masses\n",
    "- key `age`: particle log10 stellar age in years\n",
    "- key `feh`: particle stellar metallicity \\[Fe/H\\] in dex relative to solar\n",
    "\n",
    "Additionally, the following entries can optionally be added:\n",
    "- key `parentid`: index to give to the parent particle\n",
    "- key `id`: additional index to classify the parent particle\n",
    "- key `log10_NH`: log10 hydrogen column densities between Observer position and particle in $cm^{-2}$ - must be provided to estimate extinctions\n",
    "- key `dform`: particle formation distance\n",
    "- keys `helium`, `carbon`, `nitrogen`, `oxygen`, `neon`, `magnesium`, `silicon`, `sulphur`, `calcium`: particle various chemical abundances \\[X/H\\]\n",
    "- key `alpha`: particle alpha chemical abundances \\[Mg/Fe\\]\n",
    "\n",
    "Ananke will compute the phase space densities that are used to determine particle smoothing lengths, but one can include pre-computed densities with the following entries:\n",
    "- key `rho_pos`: particle density in position space in $kpc^{-3}$\n",
    "- key `rho_vel`: particle density in velocity space in $km^{-3}.s^{3}$\n",
    "\n",
    "At any time, you may access this format via the helper of the `Ananke.make_dummy_particles_input` method using\n",
    "\n",
    "`help(an.Ananke.make_dummy_particles_input)`"
   ]
  },
  {
   "attachments": {},
   "cell_type": "markdown",
   "id": "55c50b11",
   "metadata": {},
   "source": [
    "We define below some parameters for Ananke such as\n",
    " - the observer position `observer`\n",
    " - the shell of particles to mask `rshell`\n",
    " - the sampling factor `fsample`\n",
    " - the photometric system of choice `photo_sys` (in our case Gaia DR2)\n",
    " - the CMD `cmd_magnames` and its box limits `cmd_box`"
   ]
  },
  {
   "cell_type": "code",
   "execution_count": 3,
   "id": "1ecc74b8",
   "metadata": {},
   "outputs": [],
   "source": [
    "D = 200 # *units.kpc\n",
    "\n",
    "observer = np.nan*np.ones(3)\n",
    "while not np.linalg.norm(observer)<1:\n",
    "    observer = 2*np.random.rand(3)-1\n",
    "\n",
    "observer *= D/np.linalg.norm(observer)\n",
    "\n",
    "rshell = [0, 2*D]\n",
    "\n",
    "fsample = 0.01\n",
    "\n",
    "photo_sys = 'padova/GAIA__DR2'\n",
    "\n",
    "cmd_magnames = {'magnitude': 'G',\n",
    "                'color_minuend': 'Gbp',\n",
    "                'color_subtrahend': 'Grp'}\n",
    "\n",
    "cmd_box = {\n",
    "           'abs_mag_lim_lo': -1000,\n",
    "           'abs_mag_lim_hi': 1000,\n",
    "        #    'app_mag_lim_lo' : -1000,\n",
    "           'app_mag_lim_hi': 30,\n",
    "        #    'color_lim_lo' : -1000,\n",
    "        #    'color_lim_hi' : 1000\n",
    "           }"
   ]
  },
  {
   "cell_type": "markdown",
   "id": "8e3b700c",
   "metadata": {},
   "source": [
    "For more details regarding these parameters and more, you may consult the docstring associated to the class `Ananke` via the lines:\n",
    "\n",
    "`help(an.Ananke.__init__)`\n",
    "\n",
    "or\n",
    "\n",
    "`help(an.Ananke)`\n",
    "\n",
    "Note that among those are 3 special parameters, `d_params`, `e_params` and `err_params`, which receive dictionaries of subparameters to configure the sub-steps of the pipeline corresponding respectively to the phase space density estimation, the extinction mapping and the instrument error modeling. Each have further documentation that can be accessed calling the following methods:\n",
    "\n",
    "`an.display_density_docs()` for `d_params`\n",
    "\n",
    "`an.display_extinction_docs()` for `e_params`\n",
    "\n",
    "`an.display_errormodel_docs()` for `err_params`"
   ]
  },
  {
   "attachments": {},
   "cell_type": "markdown",
   "id": "1f132dcb",
   "metadata": {},
   "source": [
    "We show below how to create the `Ananke` pipeline object before calling `run`, using the parameters we defined above."
   ]
  },
  {
   "cell_type": "code",
   "execution_count": 4,
   "id": "f56bb9c8",
   "metadata": {},
   "outputs": [
    {
     "name": "stderr",
     "output_type": "stream",
     "text": [
      "/home/athob/miniconda3/envs/test_pypi/lib/python3.10/site-packages/ananke/utils.py:31: UserWarning: Pandas doesn't allow columns to be created via a new attribute name - see https://pandas.pydata.org/pandas-docs/stable/indexing.html#attribute-access\n",
      "  self._record_of_all_used_keys = set()\n",
      "/home/athob/miniconda3/envs/test_pypi/lib/python3.10/site-packages/ananke/utils.py:31: UserWarning: Pandas doesn't allow columns to be created via a new attribute name - see https://pandas.pydata.org/pandas-docs/stable/indexing.html#attribute-access\n",
      "  self._record_of_all_used_keys = set()\n"
     ]
    }
   ],
   "source": [
    "name = 'sim'\n",
    "ananke = an.Ananke(p, name, fsample=fsample,\n",
    "                   observer=observer, rshell=rshell,\n",
    "                   photo_sys=photo_sys, cmd_magnames=cmd_magnames,\n",
    "                   **cmd_box)"
   ]
  },
  {
   "attachments": {},
   "cell_type": "markdown",
   "id": "fb2ba696",
   "metadata": {},
   "source": [
    "As mentioned above, the `Ananke` method `run` runs the pipeline once it has been created. Some additional parameters can be provided to this method, which are listed in its docstring (accessible by calling `help(ananke.run)`). Those include:\n",
    "- `input_dir`, `output_dir`, `i_o_dir` - Optional arguments to specify paths for the directories where `ananke` should generate input and output data. If the `i_o_dir` keyword argument is provided, it overrides any path given to the `input_dir` and `output_dir` keyword arguments.\n",
    "- `k_factor` – Scaling factor applied to the kernels lengths to adjust all the kernels sizes uniformly. Lower values reduces the kernels extents, while higher values increases them. Default to 1 (no adjustment).\n",
    "- `surveyname` – Optional name `Galaxia` should use for the output files. Default to `'survey'`.\n",
    "- `n_jobs` – Number of independent catalog generations ran in parallel. Default to 1.\n",
    "- `verbose` – Verbose boolean flag to allow pipeline to print what it's doing to stdout. Default to `True`.\n",
    "- `rand_seed` – Seed to be used by `Galaxia`'s pseudorandom number generator. Default to 17052\n",
    "- `nstart` – Index at which to start indexing synthetic stars. Default to 0\n",
    "For our example however, we will use the method as it is.\n",
    "\n",
    "<!-- > [!WARNING]  \n",
    "> Some of the `run` method parameters are currently not properly implemented, using them may lead to unexpected results -->\n",
    "\n",
    "<div class=\"admonition warning\">\n",
    "<div class=\"title\">Warning</div>\n",
    "<p>Some of the `run` method parameters are currently not properly implemented, using them may lead to unexpected results</p>\n",
    "</div>"
   ]
  },
  {
   "cell_type": "code",
   "execution_count": 5,
   "id": "f04f19ca",
   "metadata": {},
   "outputs": [
    {
     "name": "stdout",
     "output_type": "stream",
     "text": [
      "Dimensions = 3\n",
      "Normalization constant of Kernel type 3: 0.596831\n",
      "Reading ASCII format file: to_enbid \n",
      "Read 300000 records\n",
      "Allocated 3.8147 MByte for particle storage.\n",
      "Type = 1 Particles = 100000\n",
      "Total particles = 100000\n",
      "Allocated 22.1252 MByte for Binary-Tree and Entropy bins.\n",
      "\n",
      "Scaling Co-ordinates as x[i]=x[i]/h[i] with h[i]->\n",
      "1 1 1 \n",
      "\n",
      "Starting to Build Tree .......\n",
      "Particle Type = 1 First node number = 1\n",
      "                  Last node number  = 199999\n",
      "Total number of nodes = 199999\n",
      "Treebuild time = 0.163068 s \n",
      "\n",
      "Density Calculation. Smoothing .....\n",
      "Evaluated =   1 % Time Left = 1.176009 s of 1.187900 s Par no = 96805 Density = 4.540411e-02 \n",
      "Evaluated =   2 % Time Left = 1.144187 s of 1.167550 s Par no = 55454 Density = 4.964532e-03 \n",
      "Evaluated =   3 % Time Left = 1.165184 s of 1.201233 s Par no = 27717 Density = 1.827217e-01 \n",
      "Evaluated =   4 % Time Left = 1.182252 s of 1.231525 s Par no = 42234 Density = 2.712376e-02 \n",
      "Evaluated =   5 % Time Left = 1.180173 s of 1.242300 s Par no = 99785 Density = 2.988043e-01 \n",
      "Evaluated =   6 % Time Left = 1.171948 s of 1.246767 s Par no = 88021 Density = 1.791133e-01 \n",
      "Evaluated =   7 % Time Left = 1.197495 s of 1.287643 s Par no = 75708 Density = 1.165058e-01 \n",
      "Evaluated =   8 % Time Left = 1.173585 s of 1.275650 s Par no = 45579 Density = 7.255407e-02 \n",
      "Evaluated =   9 % Time Left = 1.138397 s of 1.251000 s Par no = 30351 Density = 8.828938e-02 \n",
      "Evaluated =  10 % Time Left = 1.131791 s of 1.257560 s Par no = 89176 Density = 1.775999e-01 \n",
      "Evaluated =  11 % Time Left = 1.126363 s of 1.265591 s Par no = 60361 Density = 8.299880e-02 \n",
      "Evaluated =  12 % Time Left = 1.129027 s of 1.283000 s Par no = 90082 Density = 2.203585e-01 \n",
      "Evaluated =  13 % Time Left = 1.124295 s of 1.292308 s Par no = 26814 Density = 1.910994e-02 \n",
      "Evaluated =  14 % Time Left = 1.107907 s of 1.288279 s Par no = 74297 Density = 2.157650e-02 \n",
      "Evaluated =  15 % Time Left = 1.100221 s of 1.294393 s Par no = 94905 Density = 9.119637e-02 \n",
      "Evaluated =  16 % Time Left = 1.087588 s of 1.294763 s Par no = 51653 Density = 9.666827e-02 \n",
      "Evaluated =  17 % Time Left = 1.070936 s of 1.290300 s Par no = 39308 Density = 1.287774e-01 \n",
      "Evaluated =  18 % Time Left = 1.061199 s of 1.294161 s Par no = 7800 Density = 4.130107e-02 \n",
      "Evaluated =  19 % Time Left = 1.046835 s of 1.292405 s Par no = 42838 Density = 5.914271e-02 \n",
      "Evaluated =  20 % Time Left = 1.034679 s of 1.293365 s Par no = 49016 Density = 1.554842e-01 \n",
      "Evaluated =  21 % Time Left = 1.021626 s of 1.293214 s Par no = 29173 Density = 5.981785e-02 \n",
      "Evaluated =  22 % Time Left = 1.003262 s of 1.286250 s Par no = 14018 Density = 4.713366e-02 \n",
      "Evaluated =  23 % Time Left = 0.989350 s of 1.284887 s Par no = 90617 Density = 4.088210e-02 \n",
      "Evaluated =  24 % Time Left = 0.979200 s of 1.288438 s Par no = 20588 Density = 1.273882e-01 \n",
      "Evaluated =  25 % Time Left = 0.966167 s of 1.288240 s Par no = 15465 Density = 1.274245e-01 \n",
      "Evaluated =  26 % Time Left = 0.959021 s of 1.295992 s Par no = 99360 Density = 2.044210e-01 \n",
      "Evaluated =  27 % Time Left = 0.945553 s of 1.295296 s Par no = 71132 Density = 2.079416e-02 \n",
      "Evaluated =  28 % Time Left = 0.931559 s of 1.293850 s Par no = 6665 Density = 4.366049e-03 \n",
      "Evaluated =  29 % Time Left = 0.922020 s of 1.298638 s Par no = 44439 Density = 1.463732e-01 \n",
      "Evaluated =  30 % Time Left = 0.907374 s of 1.296267 s Par no = 6386 Density = 1.825200e-01 \n",
      "Evaluated =  31 % Time Left = 0.896155 s of 1.298794 s Par no = 2716 Density = 1.495580e-01 \n",
      "Evaluated =  32 % Time Left = 0.883717 s of 1.299603 s Par no = 69470 Density = 6.785184e-02 \n",
      "Evaluated =  33 % Time Left = 0.872595 s of 1.302400 s Par no = 95884 Density = 1.793627e-01 \n",
      "Evaluated =  34 % Time Left = 0.860503 s of 1.303812 s Par no = 73768 Density = 1.295312e-02 \n",
      "Evaluated =  35 % Time Left = 0.849379 s of 1.306757 s Par no = 47898 Density = 1.088661e-01 \n",
      "Evaluated =  36 % Time Left = 0.834876 s of 1.304514 s Par no = 66396 Density = 3.959183e-02 \n",
      "Evaluated =  37 % Time Left = 0.822026 s of 1.304824 s Par no = 16463 Density = 1.572218e-01 \n",
      "Evaluated =  38 % Time Left = 0.811957 s of 1.309629 s Par no = 55669 Density = 1.712036e-01 \n",
      "Evaluated =  39 % Time Left = 0.801286 s of 1.313605 s Par no = 97705 Density = 1.234432e-01 \n",
      "Evaluated =  40 % Time Left = 0.787337 s of 1.312250 s Par no = 43442 Density = 6.719712e-02 \n",
      "Evaluated =  41 % Time Left = 0.775171 s of 1.313871 s Par no = 10242 Density = 2.102901e-01 \n",
      "Evaluated =  42 % Time Left = 0.767013 s of 1.322460 s Par no = 40929 Density = 1.391802e-01 \n",
      "Evaluated =  43 % Time Left = 0.754630 s of 1.323935 s Par no = 5720 Density = 6.551559e-02 \n",
      "Evaluated =  44 % Time Left = 0.740218 s of 1.321841 s Par no = 66730 Density = 9.093650e-02 \n",
      "Evaluated =  45 % Time Left = 0.727185 s of 1.322178 s Par no = 48819 Density = 2.248662e-01 \n",
      "Evaluated =  46 % Time Left = 0.716449 s of 1.326783 s Par no = 32014 Density = 9.211309e-02 \n",
      "Evaluated =  47 % Time Left = 0.703470 s of 1.327328 s Par no = 31533 Density = 2.932795e-02 \n",
      "Evaluated =  48 % Time Left = 0.689045 s of 1.325113 s Par no = 86677 Density = 1.263195e-01 \n",
      "Evaluated =  49 % Time Left = 0.677012 s of 1.327500 s Par no = 81951 Density = 8.802204e-02 \n",
      "Evaluated =  50 % Time Left = 0.663856 s of 1.327738 s Par no = 80149 Density = 1.559104e-01 \n",
      "Evaluated =  51 % Time Left = 0.649879 s of 1.326310 s Par no = 25229 Density = 5.093939e-02 \n",
      "Evaluated =  52 % Time Left = 0.636822 s of 1.326740 s Par no = 89731 Density = 4.987880e-02 \n",
      "Evaluated =  53 % Time Left = 0.621929 s of 1.323281 s Par no = 76366 Density = 1.511494e-01 \n",
      "Evaluated =  54 % Time Left = 0.609027 s of 1.324000 s Par no = 73159 Density = 1.548675e-02 \n",
      "Evaluated =  55 % Time Left = 0.596099 s of 1.324695 s Par no = 54007 Density = 8.763470e-02 \n",
      "Evaluated =  56 % Time Left = 0.582110 s of 1.323007 s Par no = 36235 Density = 5.465964e-02 \n",
      "Evaluated =  57 % Time Left = 0.568721 s of 1.322639 s Par no = 62068 Density = 4.050222e-02 \n",
      "Evaluated =  58 % Time Left = 0.553813 s of 1.318634 s Par no = 37661 Density = 2.656841e-02 \n",
      "Evaluated =  59 % Time Left = 0.541295 s of 1.320264 s Par no = 67914 Density = 1.940649e-01 \n",
      "Evaluated =  60 % Time Left = 0.529289 s of 1.323257 s Par no = 64732 Density = 5.859731e-02 \n",
      "Evaluated =  61 % Time Left = 0.518627 s of 1.329848 s Par no = 88788 Density = 7.161247e-03 \n",
      "Evaluated =  62 % Time Left = 0.505484 s of 1.330255 s Par no = 44083 Density = 2.877787e-02 \n",
      "Evaluated =  63 % Time Left = 0.492013 s of 1.329802 s Par no = 14045 Density = 3.265437e-02 \n",
      "Evaluated =  64 % Time Left = 0.477366 s of 1.326055 s Par no = 93621 Density = 5.216302e-02 \n",
      "Evaluated =  65 % Time Left = 0.463412 s of 1.324071 s Par no = 9132 Density = 8.411557e-02 \n",
      "Evaluated =  66 % Time Left = 0.450382 s of 1.324692 s Par no = 702 Density = 1.110411e-02 \n",
      "Evaluated =  67 % Time Left = 0.437700 s of 1.326404 s Par no = 45670 Density = 2.465222e-02 \n",
      "Evaluated =  68 % Time Left = 0.424026 s of 1.325122 s Par no = 53860 Density = 1.580593e-02 \n",
      "Evaluated =  69 % Time Left = 0.410212 s of 1.323309 s Par no = 79719 Density = 4.454536e-02 \n",
      "Evaluated =  70 % Time Left = 0.396132 s of 1.320483 s Par no = 96401 Density = 1.035200e-02 \n",
      "Evaluated =  71 % Time Left = 0.382299 s of 1.318318 s Par no = 48105 Density = 3.704987e-02 \n",
      "Evaluated =  72 % Time Left = 0.368325 s of 1.315492 s Par no = 75056 Density = 2.642116e-02 \n",
      "Evaluated =  73 % Time Left = 0.354784 s of 1.314063 s Par no = 97912 Density = 1.775965e-01 \n",
      "Evaluated =  74 % Time Left = 0.341345 s of 1.312916 s Par no = 87879 Density = 7.451773e-02 \n",
      "Evaluated =  75 % Time Left = 0.328296 s of 1.313235 s Par no = 85159 Density = 1.462781e-02 \n",
      "Evaluated =  76 % Time Left = 0.315340 s of 1.313970 s Par no = 78132 Density = 5.302110e-02 \n",
      "Evaluated =  77 % Time Left = 0.301948 s of 1.312877 s Par no = 21990 Density = 3.497640e-03 \n",
      "Evaluated =  78 % Time Left = 0.289408 s of 1.315549 s Par no = 16462 Density = 2.482335e-02 \n",
      "Evaluated =  79 % Time Left = 0.276122 s of 1.314929 s Par no = 22311 Density = 3.571432e-02 \n",
      "Evaluated =  80 % Time Left = 0.262672 s of 1.313426 s Par no = 43269 Density = 1.776266e-02 \n",
      "Evaluated =  81 % Time Left = 0.249691 s of 1.314232 s Par no = 43142 Density = 1.532303e-02 \n",
      "Evaluated =  82 % Time Left = 0.236621 s of 1.314635 s Par no = 52197 Density = 3.049044e-02 \n",
      "Evaluated =  83 % Time Left = 0.223327 s of 1.313764 s Par no = 74476 Density = 1.449572e-01 \n",
      "Evaluated =  84 % Time Left = 0.210254 s of 1.314171 s Par no = 8891 Density = 1.050831e-02 \n",
      "Evaluated =  85 % Time Left = 0.197177 s of 1.314604 s Par no = 1559 Density = 1.452041e-03 \n",
      "Evaluated =  86 % Time Left = 0.184027 s of 1.314572 s Par no = 20602 Density = 2.028735e-01 \n",
      "Evaluated =  87 % Time Left = 0.170934 s of 1.314982 s Par no = 54383 Density = 2.137116e-01 \n",
      "Evaluated =  88 % Time Left = 0.158072 s of 1.317373 s Par no = 70246 Density = 2.757094e-03 \n",
      "Evaluated =  89 % Time Left = 0.144979 s of 1.318108 s Par no = 51472 Density = 5.058417e-04 \n",
      "Evaluated =  90 % Time Left = 0.131617 s of 1.316303 s Par no = 66269 Density = 3.630537e-02 \n",
      "Evaluated =  91 % Time Left = 0.118602 s of 1.317944 s Par no = 62858 Density = 1.776033e-01 \n",
      "Evaluated =  92 % Time Left = 0.105618 s of 1.320388 s Par no = 84061 Density = 1.439860e-01 \n",
      "Evaluated =  93 % Time Left = 0.092495 s of 1.321551 s Par no = 78610 Density = 4.029672e-03 \n",
      "Evaluated =  94 % Time Left = 0.079338 s of 1.322518 s Par no = 3871 Density = 1.597447e-01 \n",
      "Evaluated =  95 % Time Left = 0.066227 s of 1.324812 s Par no = 68736 Density = 1.582606e-01 \n",
      "Evaluated =  96 % Time Left = 0.053059 s of 1.326816 s Par no = 30472 Density = 6.743145e-02 \n",
      "Evaluated =  97 % Time Left = 0.039802 s of 1.327161 s Par no = 86838 Density = 1.353215e-03 \n",
      "Evaluated =  98 % Time Left = 0.026558 s of 1.328541 s Par no = 92913 Density = 5.211162e-02 \n",
      "Evaluated =  99 % Time Left = 0.013313 s of 1.332652 s Par no = 30015 Density = 9.179291e-04 \n",
      "Evaluated = 100 % Time Left = -0.000013 s of 1.335868 s Par no = 86525 Density = 1.579017e-04 \n",
      "\n",
      "Total Smoothing Time = 1.33593 s\n",
      "1 3\n",
      "\n",
      "writing snapshot file ....\n",
      "to_enbid_d3n64.est\n",
      "done with snapshot.\n",
      "\n",
      "Total Time = 1.92016 s \n",
      "\n"
     ]
    },
    {
     "name": "stderr",
     "output_type": "stream",
     "text": [
      "/home/athob/miniconda3/envs/test_pypi/lib/python3.10/site-packages/enbid_ananke/__init__.py:271: FutureWarning: The 'delim_whitespace' keyword in pd.read_table is deprecated and will be removed in a future version. Use ``sep='\\s+'`` instead\n",
      "  usedvals = pd.read_table(path / CONSTANTS.usedvalues, header=None, delim_whitespace=True,\n"
     ]
    },
    {
     "name": "stdout",
     "output_type": "stream",
     "text": [
      "Dimensions = 3\n",
      "Normalization constant of Kernel type 3: 0.596831\n",
      "Reading ASCII format file: to_enbid \n",
      "Read 300000 records\n",
      "Allocated 3.8147 MByte for particle storage.\n",
      "Type = 1 Particles = 100000\n",
      "Total particles = 100000\n",
      "Allocated 22.1252 MByte for Binary-Tree and Entropy bins.\n",
      "\n",
      "Scaling Co-ordinates as x[i]=x[i]/h[i] with h[i]->\n",
      "1 1 1 \n",
      "\n",
      "Starting to Build Tree .......\n",
      "Particle Type = 1 First node number = 1\n",
      "                  Last node number  = 199999\n",
      "Total number of nodes = 199999\n",
      "Treebuild time = 0.159468 s \n",
      "\n",
      "Density Calculation. Smoothing .....\n",
      "Evaluated =   1 % Time Left = 1.214124 s of 1.226400 s Par no = 3379 Density = 1.586355e-02 \n",
      "Evaluated =   2 % Time Left = 1.274183 s of 1.300200 s Par no = 75725 Density = 4.756319e-02 \n",
      "Evaluated =   3 % Time Left = 1.311782 s of 1.352367 s Par no = 95160 Density = 6.928090e-03 \n",
      "Evaluated =   4 % Time Left = 1.261523 s of 1.314100 s Par no = 40983 Density = 2.235913e-02 \n",
      "Evaluated =   5 % Time Left = 1.259326 s of 1.325620 s Par no = 79587 Density = 2.321368e-02 \n",
      "Evaluated =   6 % Time Left = 1.260871 s of 1.341367 s Par no = 62143 Density = 2.106821e-02 \n",
      "Evaluated =   7 % Time Left = 1.231041 s of 1.323714 s Par no = 48098 Density = 2.322558e-02 \n",
      "Evaluated =   8 % Time Left = 1.226324 s of 1.332975 s Par no = 73424 Density = 1.566558e-02 \n",
      "Evaluated =   9 % Time Left = 1.210802 s of 1.330567 s Par no = 41738 Density = 1.527212e-02 \n",
      "Evaluated =  10 % Time Left = 1.192028 s of 1.324490 s Par no = 34821 Density = 3.462067e-02 \n",
      "Evaluated =  11 % Time Left = 1.186073 s of 1.332682 s Par no = 99566 Density = 5.806165e-02 \n",
      "Evaluated =  12 % Time Left = 1.169052 s of 1.328483 s Par no = 59443 Density = 1.071449e-02 \n",
      "Evaluated =  13 % Time Left = 1.146165 s of 1.317446 s Par no = 7663 Density = 2.551240e-03 \n",
      "Evaluated =  14 % Time Left = 1.143762 s of 1.329971 s Par no = 69540 Density = 2.717029e-02 \n",
      "Evaluated =  15 % Time Left = 1.128418 s of 1.327567 s Par no = 28859 Density = 1.270314e-02 \n",
      "Evaluated =  16 % Time Left = 1.106130 s of 1.316837 s Par no = 77774 Density = 2.211896e-02 \n",
      "Evaluated =  17 % Time Left = 1.095226 s of 1.319565 s Par no = 65109 Density = 3.644556e-03 \n",
      "Evaluated =  18 % Time Left = 1.076105 s of 1.312339 s Par no = 17146 Density = 6.157028e-03 \n",
      "Evaluated =  19 % Time Left = 1.066595 s of 1.316800 s Par no = 79145 Density = 2.474514e-02 \n",
      "Evaluated =  20 % Time Left = 1.054339 s of 1.317940 s Par no = 84563 Density = 3.054690e-02 \n",
      "Evaluated =  21 % Time Left = 1.046372 s of 1.324538 s Par no = 35101 Density = 3.370794e-02 \n",
      "Evaluated =  22 % Time Left = 1.033831 s of 1.325441 s Par no = 31911 Density = 1.401559e-03 \n",
      "Evaluated =  23 % Time Left = 1.020039 s of 1.324743 s Par no = 96514 Density = 1.869492e-02 \n",
      "Evaluated =  24 % Time Left = 1.004830 s of 1.322163 s Par no = 41208 Density = 4.063115e-02 \n",
      "Evaluated =  25 % Time Left = 0.989510 s of 1.319364 s Par no = 50899 Density = 1.130457e-03 \n",
      "Evaluated =  26 % Time Left = 0.975264 s of 1.317942 s Par no = 25354 Density = 2.573581e-02 \n",
      "Evaluated =  27 % Time Left = 0.963465 s of 1.319833 s Par no = 38397 Density = 1.824382e-02 \n",
      "Evaluated =  28 % Time Left = 0.956180 s of 1.328046 s Par no = 99925 Density = 5.098955e-02 \n",
      "Evaluated =  29 % Time Left = 0.947364 s of 1.334334 s Par no = 67233 Density = 3.835664e-02 \n",
      "Evaluated =  30 % Time Left = 0.935600 s of 1.336590 s Par no = 21415 Density = 1.821073e-02 \n",
      "Evaluated =  31 % Time Left = 0.919772 s of 1.333023 s Par no = 39830 Density = 5.986182e-03 \n",
      "Evaluated =  32 % Time Left = 0.903277 s of 1.328369 s Par no = 62656 Density = 1.851001e-03 \n",
      "Evaluated =  33 % Time Left = 0.894027 s of 1.334388 s Par no = 48049 Density = 1.832367e-02 \n",
      "Evaluated =  34 % Time Left = 0.881576 s of 1.335741 s Par no = 71467 Density = 3.566542e-02 \n",
      "Evaluated =  35 % Time Left = 0.870130 s of 1.338683 s Par no = 94467 Density = 8.080338e-03 \n",
      "Evaluated =  36 % Time Left = 0.853149 s of 1.333067 s Par no = 24663 Density = 3.556317e-02 \n",
      "Evaluated =  37 % Time Left = 0.838089 s of 1.330322 s Par no = 55355 Density = 2.436876e-02 \n",
      "Evaluated =  38 % Time Left = 0.825753 s of 1.331882 s Par no = 77628 Density = 3.192216e-02 \n",
      "Evaluated =  39 % Time Left = 0.813240 s of 1.333203 s Par no = 6428 Density = 3.955819e-02 \n",
      "Evaluated =  40 % Time Left = 0.800072 s of 1.333475 s Par no = 29219 Density = 3.686058e-04 \n",
      "Evaluated =  41 % Time Left = 0.786678 s of 1.333376 s Par no = 11475 Density = 1.075123e-02 \n",
      "Evaluated =  42 % Time Left = 0.776582 s of 1.338957 s Par no = 25064 Density = 3.927625e-02 \n",
      "Evaluated =  43 % Time Left = 0.765857 s of 1.343633 s Par no = 14672 Density = 1.066699e-02 \n",
      "Evaluated =  44 % Time Left = 0.751333 s of 1.341691 s Par no = 46917 Density = 2.114631e-02 \n",
      "Evaluated =  45 % Time Left = 0.737199 s of 1.340387 s Par no = 35522 Density = 9.714150e-03 \n",
      "Evaluated =  46 % Time Left = 0.725572 s of 1.343676 s Par no = 10564 Density = 2.478037e-03 \n",
      "Evaluated =  47 % Time Left = 0.711426 s of 1.342338 s Par no = 90836 Density = 3.490644e-02 \n",
      "Evaluated =  48 % Time Left = 0.697937 s of 1.342213 s Par no = 91231 Density = 8.647473e-03 \n",
      "Evaluated =  49 % Time Left = 0.686748 s of 1.346592 s Par no = 16819 Density = 9.508127e-03 \n",
      "Evaluated =  50 % Time Left = 0.671589 s of 1.343204 s Par no = 30766 Density = 4.927925e-03 \n",
      "Evaluated =  51 % Time Left = 0.658122 s of 1.343133 s Par no = 9459 Density = 7.940475e-03 \n",
      "Evaluated =  52 % Time Left = 0.643925 s of 1.341538 s Par no = 76505 Density = 8.072356e-03 \n",
      "Evaluated =  53 % Time Left = 0.629751 s of 1.339925 s Par no = 52019 Density = 3.462386e-03 \n",
      "Evaluated =  54 % Time Left = 0.615964 s of 1.339081 s Par no = 56938 Density = 1.337130e-02 \n",
      "Evaluated =  55 % Time Left = 0.601095 s of 1.335796 s Par no = 33321 Density = 2.006831e-02 \n",
      "Evaluated =  56 % Time Left = 0.586966 s of 1.334045 s Par no = 4046 Density = 2.271462e-02 \n",
      "Evaluated =  57 % Time Left = 0.573945 s of 1.334786 s Par no = 68529 Density = 3.147267e-02 \n",
      "Evaluated =  58 % Time Left = 0.562236 s of 1.338688 s Par no = 23845 Density = 3.357711e-02 \n",
      "Evaluated =  59 % Time Left = 0.549617 s of 1.340563 s Par no = 57420 Density = 3.986822e-02 \n",
      "Evaluated =  60 % Time Left = 0.536338 s of 1.340878 s Par no = 89896 Density = 3.369183e-03 \n",
      "Evaluated =  61 % Time Left = 0.522593 s of 1.340016 s Par no = 39610 Density = 1.535302e-03 \n",
      "Evaluated =  62 % Time Left = 0.507744 s of 1.336203 s Par no = 26107 Density = 4.015532e-03 \n",
      "Evaluated =  63 % Time Left = 0.493870 s of 1.334819 s Par no = 98943 Density = 1.799383e-03 \n",
      "Evaluated =  64 % Time Left = 0.479843 s of 1.332934 s Par no = 99085 Density = 1.412553e-02 \n",
      "Evaluated =  65 % Time Left = 0.466164 s of 1.331934 s Par no = 17 Density = 1.179375e-02 \n",
      "Evaluated =  66 % Time Left = 0.453153 s of 1.332842 s Par no = 3087 Density = 1.429490e-02 \n",
      "Evaluated =  67 % Time Left = 0.441136 s of 1.336816 s Par no = 86468 Density = 2.256122e-02 \n",
      "Evaluated =  68 % Time Left = 0.427600 s of 1.336293 s Par no = 52080 Density = 4.635496e-03 \n",
      "Evaluated =  69 % Time Left = 0.413089 s of 1.332587 s Par no = 26417 Density = 1.433997e-02 \n",
      "Evaluated =  70 % Time Left = 0.399501 s of 1.331714 s Par no = 79634 Density = 7.429452e-03 \n",
      "Evaluated =  71 % Time Left = 0.386165 s of 1.331649 s Par no = 97643 Density = 2.184668e-04 \n",
      "Evaluated =  72 % Time Left = 0.372907 s of 1.331857 s Par no = 78794 Density = 5.369595e-03 \n",
      "Evaluated =  73 % Time Left = 0.359220 s of 1.330495 s Par no = 45708 Density = 1.294336e-02 \n",
      "Evaluated =  74 % Time Left = 0.345524 s of 1.328989 s Par no = 66525 Density = 2.125199e-03 \n",
      "Evaluated =  75 % Time Left = 0.331872 s of 1.327541 s Par no = 21984 Density = 8.619656e-04 \n",
      "Evaluated =  76 % Time Left = 0.318433 s of 1.326859 s Par no = 43799 Density = 2.740289e-03 \n",
      "Evaluated =  77 % Time Left = 0.304865 s of 1.325557 s Par no = 63854 Density = 3.854665e-03 \n",
      "Evaluated =  78 % Time Left = 0.291396 s of 1.324590 s Par no = 91160 Density = 2.256671e-03 \n",
      "Evaluated =  79 % Time Left = 0.278080 s of 1.324256 s Par no = 1891 Density = 1.555006e-04 \n",
      "Evaluated =  80 % Time Left = 0.265051 s of 1.325321 s Par no = 17306 Density = 9.342227e-04 \n",
      "Evaluated =  81 % Time Left = 0.252042 s of 1.326606 s Par no = 83119 Density = 2.469888e-02 \n",
      "Evaluated =  82 % Time Left = 0.238887 s of 1.327226 s Par no = 73346 Density = 1.956386e-03 \n",
      "Evaluated =  83 % Time Left = 0.225452 s of 1.326266 s Par no = 98412 Density = 4.288590e-03 \n",
      "Evaluated =  84 % Time Left = 0.212423 s of 1.327730 s Par no = 52509 Density = 8.264857e-03 \n",
      "Evaluated =  85 % Time Left = 0.199585 s of 1.330658 s Par no = 76716 Density = 3.547589e-02 \n",
      "Evaluated =  86 % Time Left = 0.186754 s of 1.334051 s Par no = 95957 Density = 2.923764e-02 \n",
      "Evaluated =  87 % Time Left = 0.173496 s of 1.334690 s Par no = 3295 Density = 1.361911e-02 \n",
      "Evaluated =  88 % Time Left = 0.160120 s of 1.334447 s Par no = 4026 Density = 3.781490e-02 \n",
      "Evaluated =  89 % Time Left = 0.146904 s of 1.335610 s Par no = 78656 Density = 6.492402e-02 \n",
      "Evaluated =  90 % Time Left = 0.133863 s of 1.338763 s Par no = 9255 Density = 4.661644e-02 \n",
      "Evaluated =  91 % Time Left = 0.120669 s of 1.340919 s Par no = 89389 Density = 2.612382e-03 \n",
      "Evaluated =  92 % Time Left = 0.107176 s of 1.339865 s Par no = 91357 Density = 1.136847e-02 \n",
      "Evaluated =  93 % Time Left = 0.093931 s of 1.342062 s Par no = 75212 Density = 1.186542e-02 \n",
      "Evaluated =  94 % Time Left = 0.080683 s of 1.344933 s Par no = 79246 Density = 4.605766e-02 \n",
      "Evaluated =  95 % Time Left = 0.067359 s of 1.347440 s Par no = 93038 Density = 2.164083e-02 \n",
      "Evaluated =  96 % Time Left = 0.053904 s of 1.347936 s Par no = 65384 Density = 2.308048e-02 \n",
      "Evaluated =  97 % Time Left = 0.040377 s of 1.346340 s Par no = 32352 Density = 1.225704e-03 \n",
      "Evaluated =  98 % Time Left = 0.026939 s of 1.347638 s Par no = 16971 Density = 3.436726e-02 \n",
      "Evaluated =  99 % Time Left = 0.013484 s of 1.349797 s Par no = 22517 Density = 2.430708e-02 \n",
      "Evaluated = 100 % Time Left = -0.000014 s of 1.352031 s Par no = 42877 Density = 2.940734e-06 \n",
      "\n",
      "Total Smoothing Time = 1.35208 s\n",
      "1 3\n",
      "\n",
      "writing snapshot file ....\n",
      "to_enbid_d3n64.est\n",
      "done with snapshot.\n",
      "\n",
      "Total Time = 1.89054 s \n",
      "\n",
      "Executing JOB 1/1 = /home/athob/miniconda3/envs/test_pypi/.cache/galaxia_ananke/bin/galaxia -r --hdim=6 --nfile=sim --ngen=0 /home/athob/pypi_sand_box/py-ananke/jupyter/survey_params\n",
      "JOB 1/1 | CODEDATAPATH=/home/athob/miniconda3/envs/test_pypi/.cache/galaxia_ananke/GalaxiaData/\n",
      "JOB 1/1 | Reading Parameter file-             /home/athob/pypi_sand_box/py-ananke/jupyter/survey_params\n",
      "JOB 1/1 | --------------------------------------------------------\n",
      "JOB 1/1 | outputFile               survey                  \n",
      "JOB 1/1 | outputDir                /home/athob/pypi_sand_box/py-ananke/jupyter\n",
      "JOB 1/1 | photoCateg               padova                  \n",
      "JOB 1/1 | photoSys                 GAIA__DR2               \n",
      "JOB 1/1 | magcolorNames            G,Gbp-Grp               \n",
      "JOB 1/1 | appMagLimits[0]          -1000                   \n",
      "JOB 1/1 | appMagLimits[1]          30                      \n",
      "JOB 1/1 | absMagLimits[0]          -1000                   \n",
      "JOB 1/1 | absMagLimits[1]          1000                    \n",
      "JOB 1/1 | colorLimits[0]           -1000                   \n",
      "JOB 1/1 | colorLimits[1]           1000                    \n",
      "JOB 1/1 | geometryOption           0                       \n",
      "JOB 1/1 | surveyArea               207.455                 \n",
      "JOB 1/1 | fSample                  0.01                    \n",
      "JOB 1/1 | popID                    10                      \n",
      "JOB 1/1 | warpFlareOn              0                       \n",
      "JOB 1/1 | longitude                76.273                  \n",
      "JOB 1/1 | latitude                 13.4725                 \n",
      "JOB 1/1 | starType                 0                       \n",
      "JOB 1/1 | photoError               0                       \n",
      "JOB 1/1 | seed                     17052                   \n",
      "JOB 1/1 | r_max                    400                     \n",
      "JOB 1/1 | r_min                    0                       \n",
      "JOB 1/1 | nres                     64                      \n",
      "JOB 1/1 | nstart                   0                       \n",
      "JOB 1/1 | rSun[0]                  194.95682580382552      \n",
      "JOB 1/1 | rSun[1]                  -34.20370085093144      \n",
      "JOB 1/1 | rSun[2]                  28.669546919977957      \n",
      "JOB 1/1 | vSun[0]                  12.9                    \n",
      "JOB 1/1 | vSun[1]                  245.6                   \n",
      "JOB 1/1 | vSun[2]                  7.78                    \n",
      "JOB 1/1 | --------------------------------------------------------\n",
      "JOB 1/1 | Reading Halo Sat File=/home/athob/miniconda3/envs/test_pypi/.cache/galaxia_ananke/GalaxiaData/nbody1/filenames/sim.txt\n",
      "JOB 1/1 | nbody1/sim/\n",
      "JOB 1/1 | \n",
      "JOB 1/1 | \t1\t1\n",
      "JOB 1/1 | \n",
      "JOB 1/1 | path nbody1/sim/ sats 1 x[0] 1\n",
      "JOB 1/1 | Halo 1 Sat 0 fname nbody1/sim/sim.ebf 0\n",
      "JOB 1/1 | nbody1/sim/sim.ebf 0\n",
      "JOB 1/1 | No of Satellites   =1\n",
      "JOB 1/1 | Generating catalog. Max allowed stars is 18446744073709551615\n",
      "JOB 1/1 | Source numbering will start at 0\n",
      "JOB 1/1 | Writing to /home/athob/pypi_sand_box/py-ananke/jupyter/survey.sim.0.ebf\n",
      "JOB 1/1 | Using geometry:                     All Sky\n",
      "JOB 1/1 | setting center to 194.957 -34.2037 28.6695 12.9 245.6 7.78\n",
      "JOB 1/1 | Reading Isochrones from dir-        /home/athob/miniconda3/envs/test_pypi/.cache/galaxia_ananke/GalaxiaData/Isochrones/padova/GAIA__DR2\n"
     ]
    },
    {
     "name": "stderr",
     "output_type": "stream",
     "text": [
      "/home/athob/miniconda3/envs/test_pypi/lib/python3.10/site-packages/enbid_ananke/__init__.py:271: FutureWarning: The 'delim_whitespace' keyword in pd.read_table is deprecated and will be removed in a future version. Use ``sep='\\s+'`` instead\n",
      "  usedvals = pd.read_table(path / CONSTANTS.usedvalues, header=None, delim_whitespace=True,\n"
     ]
    },
    {
     "name": "stdout",
     "output_type": "stream",
     "text": [
      "JOB 1/1 | Isochrone Grid Size:                (Age bins=71,Feh bins=34,Alpha bins=1)\n",
      "JOB 1/1 | Time Isochrone Reading              3.62717     \n",
      "JOB 1/1 | ------------------------------\n",
      "JOB 1/1 | nbody1/sim/sim.ebf  Sat No=0\n",
      "JOB 1/1 | Particles=100000\n",
      "JOB 1/1 | Satellite Info\n",
      "JOB 1/1 | Particles=100000 Mass=5.49989e+08 0.379706\n",
      "JOB 1/1 | Total Stars=2213240 accepted=1611712 rejected=601528\n",
      "JOB 1/1 | -----------Done---------------\n",
      "JOB 1/1 | Total stars written                 1611712                 \n",
      "JOB 1/1 | 31\n",
      "JOB 1/1 | File written-                       /home/athob/pypi_sand_box/py-ananke/jupyter/survey.sim.0.ebf\n",
      "JOB 1/1 | Calculating magnitudes in GAIA__DR2 system................\n",
      "JOB 1/1 | initializing isochrone data\n",
      "JOB 1/1 | interpolating on isochrone tables\n",
      "JOB 1/1 | Total Time=                         8.9051      \n",
      "Exported the following quantities from /home/athob/pypi_sand_box/py-ananke/jupyter/survey.sim.0.ebf to /home/athob/pypi_sand_box/py-ananke/jupyter/survey.sim.0.h5 for partition 0\n",
      "['age', 'alpha', 'calcium', 'carbon', 'dform', 'dmod', 'feh', 'gaia__dr2_g', 'gaia__dr2_gbp', 'gaia__dr2_grp', 'grav', 'helium', 'lum', 'mact', 'magnesium', 'mtip', 'neon', 'nitrogen', 'oxygen', 'parentid', 'partid', 'partitionid', 'px', 'py', 'pz', 'rad', 'satid', 'silicon', 'smass', 'sulphur', 'teff', 'vx', 'vy', 'vz']\n",
      "Running convert_cartesian_to_galactic post-processing pipeline\n",
      "Exported the following quantities to /home/athob/pypi_sand_box/py-ananke/jupyter/survey.sim.0.h5\n",
      "['glon', 'mub', 'vr', 'glat', 'mul']\n",
      "Overwritten the following quantities to /home/athob/pypi_sand_box/py-ananke/jupyter/survey.sim.0.h5\n",
      "['rad']\n",
      "Running convert_galactic_to_icrs post-processing pipeline\n",
      "Exported the following quantities to /home/athob/pypi_sand_box/py-ananke/jupyter/survey.sim.0.h5\n",
      "['ra', 'mura', 'dec', 'mudec']\n",
      "Exported the following quantities to /home/athob/pypi_sand_box/py-ananke/jupyter/survey.sim.0.h5\n",
      "['pi']\n",
      "Running last_conversions post-processing pipeline\n",
      "Overwritten the following quantities to /home/athob/pypi_sand_box/py-ananke/jupyter/survey.sim.0.h5\n",
      "['teff', 'lum']\n"
     ]
    },
    {
     "data": {
      "text/html": [
       "<pre style=\"white-space:pre;overflow-x:auto;line-height:normal;font-family:Menlo,'DejaVu Sans Mono',consolas,'Courier New',monospace\"><span style=\"color: #7fbfbf; text-decoration-color: #7fbfbf\">[06/20/25 13:02:00] </span><span style=\"color: #808000; text-decoration-color: #808000\">WARNING </span> could not close memmap for column                                   <a href=\"file:///home/athob/miniconda3/envs/test_pypi/lib/python3.10/site-packages/vaex/dataset_mmap.py\" target=\"_blank\"><span style=\"color: #7f7f7f; text-decoration-color: #7f7f7f\">dataset_mmap.py</span></a><span style=\"color: #7f7f7f; text-decoration-color: #7f7f7f\">:</span><a href=\"file:///home/athob/miniconda3/envs/test_pypi/lib/python3.10/site-packages/vaex/dataset_mmap.py#94\" target=\"_blank\"><span style=\"color: #7f7f7f; text-decoration-color: #7f7f7f\">94</span></a>\n",
       "<span style=\"color: #7fbfbf; text-decoration-color: #7fbfbf\">                    </span>         <span style=\"color: #800080; text-decoration-color: #800080\">/home/athob/pypi_sand_box/py-ananke/jupyter/</span><span style=\"color: #ff00ff; text-decoration-color: #ff00ff\">survey.sim.0.h5</span>         <span style=\"color: #7f7f7f; text-decoration-color: #7f7f7f\">                  </span>\n",
       "</pre>\n"
      ],
      "text/plain": [
       "\u001b[2;36m[06/20/25 13:02:00]\u001b[0m\u001b[2;36m \u001b[0m\u001b[33mWARNING \u001b[0m could not close memmap for column                                   \u001b]8;id=574365;file:///home/athob/miniconda3/envs/test_pypi/lib/python3.10/site-packages/vaex/dataset_mmap.py\u001b\\\u001b[2mdataset_mmap.py\u001b[0m\u001b]8;;\u001b\\\u001b[2m:\u001b[0m\u001b]8;id=493865;file:///home/athob/miniconda3/envs/test_pypi/lib/python3.10/site-packages/vaex/dataset_mmap.py#94\u001b\\\u001b[2m94\u001b[0m\u001b]8;;\u001b\\\n",
       "\u001b[2;36m                    \u001b[0m         \u001b[35m/home/athob/pypi_sand_box/py-ananke/jupyter/\u001b[0m\u001b[95msurvey.sim.0.h5\u001b[0m         \u001b[2m                  \u001b[0m\n"
      ]
     },
     "metadata": {},
     "output_type": "display_data"
    },
    {
     "name": "stdout",
     "output_type": "stream",
     "text": [
      "Running observed_magnitudes post-processing pipeline\n",
      "Exported the following quantities to /home/athob/pypi_sand_box/py-ananke/jupyter/survey.sim.0.h5\n",
      "['gaia__dr2_grp_Intrinsic', 'gaia__dr2_g_Intrinsic', 'gaia__dr2_gbp_Intrinsic']\n",
      "Overwritten the following quantities to /home/athob/pypi_sand_box/py-ananke/jupyter/survey.sim.0.h5\n",
      "['gaia__dr2_gbp', 'gaia__dr2_g', 'gaia__dr2_grp']\n"
     ]
    },
    {
     "data": {
      "text/html": [
       "<pre style=\"white-space:pre;overflow-x:auto;line-height:normal;font-family:Menlo,'DejaVu Sans Mono',consolas,'Courier New',monospace\"><span style=\"color: #7fbfbf; text-decoration-color: #7fbfbf\">                    </span><span style=\"color: #808000; text-decoration-color: #808000\">WARNING </span> could not close memmap for column                                   <a href=\"file:///home/athob/miniconda3/envs/test_pypi/lib/python3.10/site-packages/vaex/dataset_mmap.py\" target=\"_blank\"><span style=\"color: #7f7f7f; text-decoration-color: #7f7f7f\">dataset_mmap.py</span></a><span style=\"color: #7f7f7f; text-decoration-color: #7f7f7f\">:</span><a href=\"file:///home/athob/miniconda3/envs/test_pypi/lib/python3.10/site-packages/vaex/dataset_mmap.py#94\" target=\"_blank\"><span style=\"color: #7f7f7f; text-decoration-color: #7f7f7f\">94</span></a>\n",
       "<span style=\"color: #7fbfbf; text-decoration-color: #7fbfbf\">                    </span>         <span style=\"color: #800080; text-decoration-color: #800080\">/home/athob/pypi_sand_box/py-ananke/jupyter/</span><span style=\"color: #ff00ff; text-decoration-color: #ff00ff\">survey.sim.0.h5</span>         <span style=\"color: #7f7f7f; text-decoration-color: #7f7f7f\">                  </span>\n",
       "</pre>\n"
      ],
      "text/plain": [
       "\u001b[2;36m                   \u001b[0m\u001b[2;36m \u001b[0m\u001b[33mWARNING \u001b[0m could not close memmap for column                                   \u001b]8;id=89392;file:///home/athob/miniconda3/envs/test_pypi/lib/python3.10/site-packages/vaex/dataset_mmap.py\u001b\\\u001b[2mdataset_mmap.py\u001b[0m\u001b]8;;\u001b\\\u001b[2m:\u001b[0m\u001b]8;id=76271;file:///home/athob/miniconda3/envs/test_pypi/lib/python3.10/site-packages/vaex/dataset_mmap.py#94\u001b\\\u001b[2m94\u001b[0m\u001b]8;;\u001b\\\n",
       "\u001b[2;36m                    \u001b[0m         \u001b[35m/home/athob/pypi_sand_box/py-ananke/jupyter/\u001b[0m\u001b[95msurvey.sim.0.h5\u001b[0m         \u001b[2m                  \u001b[0m\n"
      ]
     },
     "metadata": {},
     "output_type": "display_data"
    },
    {
     "name": "stdout",
     "output_type": "stream",
     "text": [
      "Running extinctions post-processing pipeline\n",
      "Preparing interpolator\n",
      "Now parallelizing extinctions pipeline\n",
      "Exported the following quantities to /home/athob/pypi_sand_box/py-ananke/jupyter/survey.sim.0.h5\n",
      "['A_gaia__dr2_grp', 'A_0', 'A_gaia__dr2_gbp', 'E(B-V)', 'log10_NH', 'A_gaia__dr2_g']\n",
      "Overwritten the following quantities to /home/athob/pypi_sand_box/py-ananke/jupyter/survey.sim.0.h5\n",
      "['gaia__dr2_gbp', 'gaia__dr2_g', 'gaia__dr2_grp']\n"
     ]
    },
    {
     "data": {
      "text/html": [
       "<pre style=\"white-space:pre;overflow-x:auto;line-height:normal;font-family:Menlo,'DejaVu Sans Mono',consolas,'Courier New',monospace\"><span style=\"color: #7fbfbf; text-decoration-color: #7fbfbf\">[06/20/25 13:02:11] </span><span style=\"color: #808000; text-decoration-color: #808000\">WARNING </span> could not close memmap for column                                   <a href=\"file:///home/athob/miniconda3/envs/test_pypi/lib/python3.10/site-packages/vaex/dataset_mmap.py\" target=\"_blank\"><span style=\"color: #7f7f7f; text-decoration-color: #7f7f7f\">dataset_mmap.py</span></a><span style=\"color: #7f7f7f; text-decoration-color: #7f7f7f\">:</span><a href=\"file:///home/athob/miniconda3/envs/test_pypi/lib/python3.10/site-packages/vaex/dataset_mmap.py#94\" target=\"_blank\"><span style=\"color: #7f7f7f; text-decoration-color: #7f7f7f\">94</span></a>\n",
       "<span style=\"color: #7fbfbf; text-decoration-color: #7fbfbf\">                    </span>         <span style=\"color: #800080; text-decoration-color: #800080\">/home/athob/pypi_sand_box/py-ananke/jupyter/</span><span style=\"color: #ff00ff; text-decoration-color: #ff00ff\">survey.sim.0.h5</span>         <span style=\"color: #7f7f7f; text-decoration-color: #7f7f7f\">                  </span>\n",
       "</pre>\n"
      ],
      "text/plain": [
       "\u001b[2;36m[06/20/25 13:02:11]\u001b[0m\u001b[2;36m \u001b[0m\u001b[33mWARNING \u001b[0m could not close memmap for column                                   \u001b]8;id=106980;file:///home/athob/miniconda3/envs/test_pypi/lib/python3.10/site-packages/vaex/dataset_mmap.py\u001b\\\u001b[2mdataset_mmap.py\u001b[0m\u001b]8;;\u001b\\\u001b[2m:\u001b[0m\u001b]8;id=631007;file:///home/athob/miniconda3/envs/test_pypi/lib/python3.10/site-packages/vaex/dataset_mmap.py#94\u001b\\\u001b[2m94\u001b[0m\u001b]8;;\u001b\\\n",
       "\u001b[2;36m                    \u001b[0m         \u001b[35m/home/athob/pypi_sand_box/py-ananke/jupyter/\u001b[0m\u001b[95msurvey.sim.0.h5\u001b[0m         \u001b[2m                  \u001b[0m\n"
      ]
     },
     "metadata": {},
     "output_type": "display_data"
    },
    {
     "name": "stderr",
     "output_type": "stream",
     "text": [
      "/home/athob/miniconda3/envs/test_pypi/lib/python3.10/site-packages/ananke/_default_error_model.py:37: RuntimeWarning: overflow encountered in power\n",
      "  grvs = rpmag + 132.32 - 377.28*ggrp + 402.32*ggrp**2 - 190.97*ggrp**3 + 34.026*ggrp**4\n",
      "/home/athob/miniconda3/envs/test_pypi/lib/python3.10/site-packages/ananke/_default_error_model.py:37: RuntimeWarning: overflow encountered in multiply\n",
      "  grvs = rpmag + 132.32 - 377.28*ggrp + 402.32*ggrp**2 - 190.97*ggrp**3 + 34.026*ggrp**4\n"
     ]
    },
    {
     "name": "stdout",
     "output_type": "stream",
     "text": [
      "Running error_modeling post-processing pipeline\n"
     ]
    },
    {
     "name": "stderr",
     "output_type": "stream",
     "text": [
      "/home/athob/miniconda3/envs/test_pypi/lib/python3.10/site-packages/ananke/utils.py:31: UserWarning: Pandas doesn't allow columns to be created via a new attribute name - see https://pandas.pydata.org/pandas-docs/stable/indexing.html#attribute-access\n",
      "  self._record_of_all_used_keys = set()\n",
      "/home/athob/miniconda3/envs/test_pypi/lib/python3.10/site-packages/ananke/ErrorModelDriver.py:122: FutureWarning: The behavior of Series.argmax/argmin with skipna=False and NAs, or with all-NAs is deprecated. In a future version this will raise ValueError.\n",
      "  i_max_err = np.abs(df[prop_err_name] if isinstance(df, pd.DataFrame) else df[prop_err_name].to_pandas_series()).argmax()\n"
     ]
    },
    {
     "name": "stdout",
     "output_type": "stream",
     "text": [
      "Exported the following quantities to /home/athob/pypi_sand_box/py-ananke/jupyter/survey.sim.0.h5\n",
      "['vr_Err', 'pi_Sig', 'ra_Sig', 'vr_Sig', 'dec_Err', 'mura_Sig', 'gaia__dr2_g_Sig', 'gaia__dr2_gbp_Err', 'mudec_Sig', 'gaia__dr2_gbp_Sig', 'pi_Err', 'gaia__dr2_grp_Err', 'mura_Err', 'mudec_Err', 'mudec_Clean', 'mura_Clean', 'ra_Err', 'pi_Clean', 'dec_Sig', 'ra_Clean', 'dec_Clean', 'vr_Clean', 'gaia__dr2_g_Err', 'gaia__dr2_grp_Sig']\n",
      "Overwritten the following quantities to /home/athob/pypi_sand_box/py-ananke/jupyter/survey.sim.0.h5\n",
      "['pi', 'mura', 'gaia__dr2_gbp', 'dec', 'vr', 'gaia__dr2_grp', 'ra', 'mudec', 'gaia__dr2_g']\n"
     ]
    },
    {
     "data": {
      "text/html": [
       "<pre style=\"white-space:pre;overflow-x:auto;line-height:normal;font-family:Menlo,'DejaVu Sans Mono',consolas,'Courier New',monospace\"><span style=\"color: #7fbfbf; text-decoration-color: #7fbfbf\">[06/20/25 13:02:13] </span><span style=\"color: #808000; text-decoration-color: #808000\">WARNING </span> could not close memmap for column                                   <a href=\"file:///home/athob/miniconda3/envs/test_pypi/lib/python3.10/site-packages/vaex/dataset_mmap.py\" target=\"_blank\"><span style=\"color: #7f7f7f; text-decoration-color: #7f7f7f\">dataset_mmap.py</span></a><span style=\"color: #7f7f7f; text-decoration-color: #7f7f7f\">:</span><a href=\"file:///home/athob/miniconda3/envs/test_pypi/lib/python3.10/site-packages/vaex/dataset_mmap.py#94\" target=\"_blank\"><span style=\"color: #7f7f7f; text-decoration-color: #7f7f7f\">94</span></a>\n",
       "<span style=\"color: #7fbfbf; text-decoration-color: #7fbfbf\">                    </span>         <span style=\"color: #800080; text-decoration-color: #800080\">/home/athob/pypi_sand_box/py-ananke/jupyter/</span><span style=\"color: #ff00ff; text-decoration-color: #ff00ff\">survey.sim.0.h5</span>         <span style=\"color: #7f7f7f; text-decoration-color: #7f7f7f\">                  </span>\n",
       "</pre>\n"
      ],
      "text/plain": [
       "\u001b[2;36m[06/20/25 13:02:13]\u001b[0m\u001b[2;36m \u001b[0m\u001b[33mWARNING \u001b[0m could not close memmap for column                                   \u001b]8;id=694204;file:///home/athob/miniconda3/envs/test_pypi/lib/python3.10/site-packages/vaex/dataset_mmap.py\u001b\\\u001b[2mdataset_mmap.py\u001b[0m\u001b]8;;\u001b\\\u001b[2m:\u001b[0m\u001b]8;id=73207;file:///home/athob/miniconda3/envs/test_pypi/lib/python3.10/site-packages/vaex/dataset_mmap.py#94\u001b\\\u001b[2m94\u001b[0m\u001b]8;;\u001b\\\n",
       "\u001b[2;36m                    \u001b[0m         \u001b[35m/home/athob/pypi_sand_box/py-ananke/jupyter/\u001b[0m\u001b[95msurvey.sim.0.h5\u001b[0m         \u001b[2m                  \u001b[0m\n"
      ]
     },
     "metadata": {},
     "output_type": "display_data"
    },
    {
     "name": "stdout",
     "output_type": "stream",
     "text": [
      "Running convert_icrs_to_galactic post-processing pipeline\n",
      "Overwritten the following quantities to /home/athob/pypi_sand_box/py-ananke/jupyter/survey.sim.0.h5\n",
      "['glon', 'mub', 'glat', 'mul']\n"
     ]
    },
    {
     "data": {
      "text/html": [
       "<pre style=\"white-space:pre;overflow-x:auto;line-height:normal;font-family:Menlo,'DejaVu Sans Mono',consolas,'Courier New',monospace\"><span style=\"color: #7fbfbf; text-decoration-color: #7fbfbf\">[06/20/25 13:02:15] </span><span style=\"color: #808000; text-decoration-color: #808000\">WARNING </span> could not close memmap for column                                   <a href=\"file:///home/athob/miniconda3/envs/test_pypi/lib/python3.10/site-packages/vaex/dataset_mmap.py\" target=\"_blank\"><span style=\"color: #7f7f7f; text-decoration-color: #7f7f7f\">dataset_mmap.py</span></a><span style=\"color: #7f7f7f; text-decoration-color: #7f7f7f\">:</span><a href=\"file:///home/athob/miniconda3/envs/test_pypi/lib/python3.10/site-packages/vaex/dataset_mmap.py#94\" target=\"_blank\"><span style=\"color: #7f7f7f; text-decoration-color: #7f7f7f\">94</span></a>\n",
       "<span style=\"color: #7fbfbf; text-decoration-color: #7fbfbf\">                    </span>         <span style=\"color: #800080; text-decoration-color: #800080\">/home/athob/pypi_sand_box/py-ananke/jupyter/</span><span style=\"color: #ff00ff; text-decoration-color: #ff00ff\">survey.sim.0.h5</span>         <span style=\"color: #7f7f7f; text-decoration-color: #7f7f7f\">                  </span>\n",
       "</pre>\n"
      ],
      "text/plain": [
       "\u001b[2;36m[06/20/25 13:02:15]\u001b[0m\u001b[2;36m \u001b[0m\u001b[33mWARNING \u001b[0m could not close memmap for column                                   \u001b]8;id=3877;file:///home/athob/miniconda3/envs/test_pypi/lib/python3.10/site-packages/vaex/dataset_mmap.py\u001b\\\u001b[2mdataset_mmap.py\u001b[0m\u001b]8;;\u001b\\\u001b[2m:\u001b[0m\u001b]8;id=504863;file:///home/athob/miniconda3/envs/test_pypi/lib/python3.10/site-packages/vaex/dataset_mmap.py#94\u001b\\\u001b[2m94\u001b[0m\u001b]8;;\u001b\\\n",
       "\u001b[2;36m                    \u001b[0m         \u001b[35m/home/athob/pypi_sand_box/py-ananke/jupyter/\u001b[0m\u001b[95msurvey.sim.0.h5\u001b[0m         \u001b[2m                  \u001b[0m\n"
      ]
     },
     "metadata": {},
     "output_type": "display_data"
    }
   ],
   "source": [
    "survey = ananke.run()"
   ]
  },
  {
   "attachments": {},
   "cell_type": "markdown",
   "id": "1664586c",
   "metadata": {},
   "source": [
    "The output is saved as a `vaex` dataframe, with its columns organized in alphabetical order. The photometry is stored in columns that are named according to their associated photometric system and filter name. The keys are in the lowercase format `photosys_filtername` where `photo_sys` is the photometric system and `filtername` is the filter name. In this example, the apparent photometry in filters `gbp`, `grp` & `g` of the Gaia DR2 system (identified as `GAIA__DR2` in Galaxia) are respectively under keys `gaia__dr2_gbp`, `gaia__dr2_grp` & `gaia__dr2_g`. Beside these, the columns include:\n",
    "\n",
    "- key `A_0` for the reference extinction which extinction coefficients are based on (at $\\lambda = 550 \\, nm$ in the case of Gaia DR2)\n",
    "- key `A_{filter_name}` for the extinction value in each filter designated by `filter_name` (here `A_gaia__dr2_g`, `A_gaia__dr2_gbp` & `A_gaia__dr2_grp`)\n",
    "- key `E(B-V)` for the reddening index\n",
    "- key `age` for the $log_{10}$ stellar age in years\n",
    "- key `alpha`, `calcium`, `carbon`, `helium`, `magnesium`, `neon`, `nitrogen`, `oxygen`, `silicon`, `sulphur` for the various chemical abundances as given as input\n",
    "- key `dec`, `ra` for the astrometric declination and right ascension celestial coordinates in degrees\n",
    "- key `dform` for the formation distance as given as input\n",
    "- key `dmod` for the distance modulus\n",
    "- key `feh` for the stellar metallicity \\[Fe/H\\] in dex relative to solar\n",
    "- key `{filter_name}_Intrinsic` for the intrinsic stellar photometry in each filter designated by `filter_name` (here `gaia__dr2_g_Intrinsic`, `gaia__dr2_gbp_Intrinsic` & `gaia__dr2_grp_Intrinsic`)\n",
    "- key `glat`, `glon` for the astrometric galactic latitude and longitude celestrial coordinates in degrees\n",
    "- key `grav` for the $log_{10}$ surface gravity in CGS units\n",
    "- key `log10_NH` for the $log_{10}$ hydrogen column density between Observer position and star in $cm^{-2}$\n",
    "- key `lum` for the stellar luminosity in solar luminosities\n",
    "- key `mact`, `mtip`, `smass` for respectively the current stellar mass, the mass of that same star at tip of giant branch for its given age \\& metallicity and its stellar mass on zero-age main sequence, all in solar masses\n",
    "- key `mub`, `mudec`, `mul`, `mura` for the astrometric proper motions, respectively in the direction of the galactic latitude, declination, galactic longitude and right ascension, all in milliarcseconds per year\n",
    "- key `parentid` for the parent particle index as given as input\n",
    "- key `partid` for the flag that identifies stars that are *not* central relatively to their parent particle\n",
    "- key `pi` for the star parallax in milliarcseconds\n",
    "- key `px`, `py`, `pz` for the star position cartesian coordinates in $kpc$ relative to the Observer's position\n",
    "- key `rad` for the star distance to the Observer in $kpc$\n",
    "- key `satid` for the index ``id`` the population the parent particle is part of\n",
    "- key `teff` for the star effective temperature in Kelvin\n",
    "- key `vr` for the star astrometric radial velocity in $km.s^{-1}$\n",
    "- key `vx`, `vy`, `vz` for the star velocity cartesian coordinates in $km.s^{-1}$ relative to the Observer's velocity\n",
    "\n",
    "Additionally, astrometric and photometric quantities `X` all have associated columns identified as:\n",
    "- key `{X}_Sig` for the standard error on the quantity `X`\n",
    "- key `{X}_Err` for the actual drawn gaussian error on the quantity `X`\n",
    "\n",
    "Taking the photometry as an example of the latter, the standard errors are stored under `gaia__dr2_g_Sig`, `gaia__dr2_gbp_Sig` & `gaia__dr2_grp_Sig`, while the drawn errors are under `gaia__dr2_g_Err`, `gaia__dr2_gbp_Err` & `gaia__dr2_grp_Err`."
   ]
  },
  {
   "cell_type": "code",
   "execution_count": 6,
   "id": "42e393f6",
   "metadata": {},
   "outputs": [
    {
     "data": {
      "text/html": [
       "<style>.vaex-description pre {\n",
       "          max-width : 450px;\n",
       "          white-space : nowrap;\n",
       "          overflow : hidden;\n",
       "          text-overflow: ellipsis;\n",
       "        }\n",
       "\n",
       "        .vex-description pre:hover {\n",
       "          max-width : initial;\n",
       "          white-space: pre;\n",
       "        }</style>"
      ],
      "text/plain": [
       "<IPython.core.display.HTML object>"
      ]
     },
     "metadata": {},
     "output_type": "display_data"
    },
    {
     "data": {
      "text/html": [
       "<table>\n",
       "<thead>\n",
       "<tr><th>#                                    </th><th>A_0               </th><th>A_gaia__dr2_g     </th><th>A_gaia__dr2_gbp   </th><th>A_gaia__dr2_grp    </th><th>E(B-V)             </th><th>age               </th><th>alpha             </th><th>calcium            </th><th>carbon              </th><th>dec  </th><th>dec_Clean         </th><th>dec_Err  </th><th>dec_Sig  </th><th>dform  </th><th>dmod              </th><th>feh                </th><th>gaia__dr2_g  </th><th>gaia__dr2_g_Err  </th><th>gaia__dr2_g_Intrinsic  </th><th>gaia__dr2_g_Sig  </th><th>gaia__dr2_gbp  </th><th>gaia__dr2_gbp_Err  </th><th>gaia__dr2_gbp_Intrinsic  </th><th>gaia__dr2_gbp_Sig  </th><th>gaia__dr2_grp  </th><th>gaia__dr2_grp_Err  </th><th>gaia__dr2_grp_Intrinsic  </th><th>gaia__dr2_grp_Sig  </th><th>glat  </th><th>glon  </th><th>grav     </th><th>helium              </th><th>log10_NH              </th><th>lum        </th><th>mact      </th><th>magnesium           </th><th>mtip     </th><th>mub  </th><th>mudec  </th><th>mudec_Clean         </th><th>mudec_Err  </th><th>mudec_Sig  </th><th>mul  </th><th>mura  </th><th>mura_Clean         </th><th>mura_Err  </th><th>mura_Sig  </th><th>neon               </th><th>nitrogen          </th><th>oxygen             </th><th>parentid  </th><th>partid  </th><th>partitionid  </th><th>pi  </th><th>pi_Clean            </th><th>pi_Err  </th><th>pi_Sig  </th><th>px                 </th><th>py                </th><th>pz                  </th><th>ra  </th><th>ra_Clean         </th><th>ra_Err  </th><th>ra_Sig  </th><th>rad               </th><th>satid  </th><th>silicon            </th><th>smass              </th><th>sulphur            </th><th>teff     </th><th>vr                 </th><th>vr_Clean           </th><th>vr_Err  </th><th>vr_Sig  </th><th>vx                </th><th>vy                 </th><th>vz                 </th></tr>\n",
       "</thead>\n",
       "<tbody>\n",
       "<tr><td><i style='opacity: 0.6'>0</i>        </td><td>0.7093977911594089</td><td>0.5220698544539614</td><td>0.709193133907145 </td><td>0.40556140505219107</td><td>0.22883799714819641</td><td>10.016325950622559</td><td>0.3380742371082306</td><td>-1.1830222606658936</td><td>-0.39430123567581177</td><td>nan  </td><td>43.89190561692206 </td><td>nan      </td><td>nan      </td><td>0.0    </td><td>20.87123488088669 </td><td>-0.8867433071136475</td><td>nan          </td><td>nan              </td><td>7.8221183              </td><td>nan              </td><td>nan            </td><td>nan                </td><td>8.470699                 </td><td>nan                </td><td>nan            </td><td>nan                </td><td>7.0639534                </td><td>nan                </td><td>nan   </td><td>nan   </td><td>4.769691 </td><td>-0.7315406799316406 </td><td>5.72094992870491e+21  </td><td>0.071013965</td><td>0.50516033</td><td>-0.5486690402030945 </td><td>0.886202 </td><td>nan  </td><td>nan    </td><td>-0.2413280326361944 </td><td>nan        </td><td>nan        </td><td>nan  </td><td>nan   </td><td>0.29630942610455613</td><td>nan       </td><td>nan       </td><td>-0.7326117157936096</td><td>-0.652482807636261</td><td>-0.6697278618812561</td><td>0         </td><td>0       </td><td>0            </td><td>nan </td><td>0.006695037652823929</td><td>nan     </td><td>nan     </td><td>-142.03525597960677</td><td>46.20841677042607 </td><td>0.692591828190988   </td><td>nan </td><td>73.8027984762779 </td><td>nan     </td><td>nan     </td><td>149.36435788052748</td><td>0      </td><td>-0.7563512325286865</td><td>0.5054699889829319 </td><td>-1.0924330949783325</td><td>4285.4614</td><td>-156.7385192430598 </td><td>-156.7385192430598 </td><td>nan     </td><td>nan     </td><td>67.38685760498046 </td><td>-300.3354850769043 </td><td>55.13861343383789  </td></tr>\n",
       "<tr><td><i style='opacity: 0.6'>1</i>        </td><td>0.7566822063230371</td><td>0.5514594111171848</td><td>0.7534424991156238</td><td>0.4311956707179316 </td><td>0.2440910342977539 </td><td>10.016325950622559</td><td>0.3380742371082306</td><td>-1.1830222606658936</td><td>-0.39430123567581177</td><td>nan  </td><td>43.73518629916732 </td><td>nan      </td><td>nan      </td><td>0.0    </td><td>20.87527071994942 </td><td>-0.8867433071136475</td><td>nan          </td><td>nan              </td><td>7.993824               </td><td>nan              </td><td>nan            </td><td>nan                </td><td>8.668457                 </td><td>nan                </td><td>nan            </td><td>nan                </td><td>7.2174444                </td><td>nan                </td><td>nan   </td><td>nan   </td><td>4.7857795</td><td>-0.7315406799316406 </td><td>6.102275857443847e+21 </td><td>0.06093182 </td><td>0.48871416</td><td>-0.5486690402030945 </td><td>0.886202 </td><td>nan  </td><td>nan    </td><td>-0.24008076703265266</td><td>nan        </td><td>nan        </td><td>nan  </td><td>nan   </td><td>0.2913066369253815 </td><td>nan       </td><td>nan       </td><td>-0.7326117157936096</td><td>-0.652482807636261</td><td>-0.6697278618812561</td><td>0         </td><td>1       </td><td>0            </td><td>nan </td><td>0.006682605995616206</td><td>nan     </td><td>nan     </td><td>-142.2608617629229 </td><td>46.417971376138425</td><td>-0.11534282804241303</td><td>nan </td><td>73.42607530130886</td><td>nan     </td><td>nan     </td><td>149.64222051337467</td><td>0      </td><td>-0.7563512325286865</td><td>0.48905900859965035</td><td>-1.0924330949783325</td><td>4198.5107</td><td>-156.97767104891037</td><td>-156.97767104891037</td><td>nan     </td><td>nan     </td><td>67.7484200428451  </td><td>-298.29957314526564</td><td>52.69162146715175  </td></tr>\n",
       "<tr><td><i style='opacity: 0.6'>2</i>        </td><td>136.64647824055086</td><td>2904.2323916733826</td><td>1370.444979191365 </td><td>78.02675978260831  </td><td>44.07950910985512  </td><td>10.016325950622559</td><td>0.3380742371082306</td><td>-1.1830222606658936</td><td>-0.39430123567581177</td><td>nan  </td><td>44.364568278584706</td><td>nan      </td><td>nan      </td><td>0.0    </td><td>20.888157433594138</td><td>-0.8867433071136475</td><td>nan          </td><td>nan              </td><td>8.71385                </td><td>nan              </td><td>nan            </td><td>nan                </td><td>9.517461                 </td><td>nan                </td><td>nan            </td><td>nan                </td><td>7.8597684                </td><td>nan                </td><td>nan   </td><td>nan   </td><td>4.8554068</td><td>-0.7315406799316406 </td><td>1.101987727746378e+24 </td><td>0.03486588 </td><td>0.42435014</td><td>-0.5486690402030945 </td><td>0.886202 </td><td>nan  </td><td>nan    </td><td>-0.23863717453488734</td><td>nan        </td><td>nan        </td><td>nan  </td><td>nan   </td><td>0.2958006234265731 </td><td>nan       </td><td>nan       </td><td>-0.7326117157936096</td><td>-0.652482807636261</td><td>-0.6697278618812561</td><td>0         </td><td>1       </td><td>0            </td><td>nan </td><td>0.006643065174432655</td><td>nan     </td><td>nan     </td><td>-142.9270461828407 </td><td>47.20842184009032 </td><td>1.8396875936103703  </td><td>nan </td><td>74.04989339204981</td><td>nan     </td><td>nan     </td><td>150.5329202321734 </td><td>0      </td><td>-0.7563512325286865</td><td>0.4250665825385847 </td><td>-1.0924330949783325</td><td>3935.5205</td><td>-158.4535061010785 </td><td>-158.4535061010785 </td><td>nan     </td><td>nan     </td><td>68.03093236871236 </td><td>-301.4758806839234 </td><td>56.09200627357448  </td></tr>\n",
       "<tr><td><i style='opacity: 0.6'>3</i>        </td><td>0.7150916084000247</td><td>0.59382870248778  </td><td>0.7598827721299756</td><td>0.4223180357513091 </td><td>0.23067471238710474</td><td>10.016325950622559</td><td>0.3380742371082306</td><td>-1.1830222606658936</td><td>-0.39430123567581177</td><td>nan  </td><td>43.89621033939353 </td><td>nan      </td><td>nan      </td><td>0.0    </td><td>20.86868071849355 </td><td>-0.8867433071136475</td><td>nan          </td><td>nan              </td><td>5.1929526              </td><td>nan              </td><td>nan            </td><td>nan                </td><td>5.4745564                </td><td>nan                </td><td>nan            </td><td>nan                </td><td>4.7391353                </td><td>nan                </td><td>nan   </td><td>nan   </td><td>4.5336547</td><td>-0.7315406799316406 </td><td>5.766867809677618e+21 </td><td>0.6409676  </td><td>0.74067265</td><td>-0.5486690402030945 </td><td>0.886202 </td><td>nan  </td><td>nan    </td><td>-0.24429902665121836</td><td>nan        </td><td>nan        </td><td>nan  </td><td>nan   </td><td>0.2940592689423018 </td><td>nan       </td><td>nan       </td><td>-0.7326117157936096</td><td>-0.652482807636261</td><td>-0.6697278618812561</td><td>0         </td><td>1       </td><td>0            </td><td>nan </td><td>0.006702917225320306</td><td>nan     </td><td>nan     </td><td>-141.88055546200977</td><td>46.1152954631301  </td><td>0.7600375956495637  </td><td>nan </td><td>73.8447277872187 </td><td>nan     </td><td>nan     </td><td>149.18877354213694</td><td>0      </td><td>-0.7563512325286865</td><td>0.7407077517512485 </td><td>-1.0924330949783325</td><td>5891.9644</td><td>-156.7353025299949 </td><td>-156.7353025299949 </td><td>nan     </td><td>nan     </td><td>67.38594209547328 </td><td>-300.6020691055117 </td><td>52.577100775679746 </td></tr>\n",
       "<tr><td><i style='opacity: 0.6'>4</i>        </td><td>1.186954429367537 </td><td>0.8135827151766702</td><td>1.1563472939090456</td><td>0.6614930768091817 </td><td>0.38288852560243125</td><td>10.016325950622559</td><td>0.3380742371082306</td><td>-1.1830222606658936</td><td>-0.39430123567581177</td><td>nan  </td><td>43.93297434426074 </td><td>nan      </td><td>nan      </td><td>0.0    </td><td>20.879530213898438</td><td>-0.8867433071136475</td><td>nan          </td><td>nan              </td><td>8.90345                </td><td>nan              </td><td>nan            </td><td>nan                </td><td>9.740426                 </td><td>nan                </td><td>nan            </td><td>nan                </td><td>8.03157                  </td><td>nan                </td><td>nan   </td><td>nan   </td><td>4.877773 </td><td>-0.7315406799316406 </td><td>9.572213140060782e+21 </td><td>0.02983189 </td><td>0.4045688 </td><td>-0.5486690402030945 </td><td>0.886202 </td><td>nan  </td><td>nan    </td><td>-0.24092819622063047</td><td>nan        </td><td>nan        </td><td>nan  </td><td>nan   </td><td>0.29637706857623397</td><td>nan       </td><td>nan       </td><td>-0.7326117157936096</td><td>-0.652482807636261</td><td>-0.6697278618812561</td><td>0         </td><td>1       </td><td>0            </td><td>nan </td><td>0.006669510447933344</td><td>nan     </td><td>nan     </td><td>-142.5205780120727 </td><td>46.565025551705716</td><td>0.6324477943182366  </td><td>nan </td><td>73.713875054752  </td><td>nan     </td><td>nan     </td><td>149.93604220379717</td><td>0      </td><td>-0.7563512325286865</td><td>0.4050935914883408 </td><td>-1.0924330949783325</td><td>3882.164 </td><td>-156.2199566593424 </td><td>-156.2199566593424 </td><td>nan     </td><td>nan     </td><td>66.21987999393174 </td><td>-301.09107573949996</td><td>55.35190950080388  </td></tr>\n",
       "<tr><td>...                                  </td><td>...               </td><td>...               </td><td>...               </td><td>...                </td><td>...                </td><td>...               </td><td>...               </td><td>...                </td><td>...                 </td><td>...  </td><td>...               </td><td>...      </td><td>...      </td><td>...    </td><td>...               </td><td>...                </td><td>...          </td><td>...              </td><td>...                    </td><td>...              </td><td>...            </td><td>...                </td><td>...                      </td><td>...                </td><td>...            </td><td>...                </td><td>...                      </td><td>...                </td><td>...   </td><td>...   </td><td>...      </td><td>...                 </td><td>...                   </td><td>...        </td><td>...       </td><td>...                 </td><td>...      </td><td>...  </td><td>...    </td><td>...                 </td><td>...        </td><td>...        </td><td>...  </td><td>...   </td><td>...                </td><td>...       </td><td>...       </td><td>...                </td><td>...               </td><td>...                </td><td>...       </td><td>...     </td><td>...          </td><td>... </td><td>...                 </td><td>...     </td><td>...     </td><td>...                </td><td>...               </td><td>...                 </td><td>... </td><td>...              </td><td>...     </td><td>...     </td><td>...               </td><td>...    </td><td>...                </td><td>...                </td><td>...                </td><td>...      </td><td>...                </td><td>...                </td><td>...     </td><td>...     </td><td>...               </td><td>...                </td><td>...                </td></tr>\n",
       "<tr><td><i style='opacity: 0.6'>1,611,707</i></td><td>9.84933513556694  </td><td>5.905034450988529 </td><td>8.998823684092356 </td><td>5.115782383513527  </td><td>3.1772048824409485 </td><td>9.99021053314209  </td><td>0.7036365270614624</td><td>-0.8931915760040283</td><td>0.053123194724321365</td><td>nan  </td><td>52.47591875749927 </td><td>nan      </td><td>nan      </td><td>0.0    </td><td>21.61297084448185 </td><td>-0.8060703873634338</td><td>nan          </td><td>nan              </td><td>6.9566293              </td><td>nan              </td><td>nan            </td><td>nan                </td><td>7.4624496                </td><td>nan                </td><td>nan            </td><td>nan                </td><td>6.302246                 </td><td>nan                </td><td>nan   </td><td>nan   </td><td>4.7021213</td><td>-0.05126773566007614</td><td>7.943012206102372e+22 </td><td>0.1396583  </td><td>0.5802463 </td><td>-0.10243386775255203</td><td>0.8955961</td><td>nan  </td><td>nan    </td><td>-0.1151919563604325 </td><td>nan        </td><td>nan        </td><td>nan  </td><td>nan   </td><td>0.08138204404640034</td><td>nan       </td><td>nan       </td><td>-0.5620968341827393</td><td>0.0669776126742363</td><td>-1.2146226167678833</td><td>99999     </td><td>1       </td><td>0            </td><td>nan </td><td>0.004757796156067555</td><td>nan     </td><td>nan     </td><td>-186.35975038604028</td><td>96.74107735172117 </td><td>9.349095600452486   </td><td>nan </td><td>67.0515975296681 </td><td>nan     </td><td>nan     </td><td>210.18134598404623</td><td>0      </td><td>-1.247308373451233 </td><td>0.5813063179170757 </td><td>-0.9955946803092957</td><td>4714.454 </td><td>-90.2409497740284  </td><td>-90.2409497740284  </td><td>nan     </td><td>nan     </td><td>15.159623414379855</td><td>-164.46277627244382</td><td>-24.763303315808546</td></tr>\n",
       "<tr><td><i style='opacity: 0.6'>1,611,708</i></td><td>13.305286896928763</td><td>7.972572810389154 </td><td>12.199044094449862</td><td>6.734497001850923  </td><td>4.292028031267343  </td><td>9.99021053314209  </td><td>0.7036365270614624</td><td>-0.8931915760040283</td><td>0.053123194724321365</td><td>nan  </td><td>52.10502299677406 </td><td>nan      </td><td>nan      </td><td>0.0    </td><td>21.608894668241703</td><td>-0.8060703873634338</td><td>nan          </td><td>nan              </td><td>5.3323083              </td><td>nan              </td><td>nan            </td><td>nan                </td><td>5.6339135                </td><td>nan                </td><td>nan            </td><td>nan                </td><td>4.8603163                </td><td>nan                </td><td>nan   </td><td>nan   </td><td>4.551513 </td><td>-0.05126773566007614</td><td>1.0730070078168358e+23</td><td>0.5618677  </td><td>0.73399246</td><td>-0.10243386775255203</td><td>0.8955961</td><td>nan  </td><td>nan    </td><td>-0.11464220238473408</td><td>nan        </td><td>nan        </td><td>nan  </td><td>nan   </td><td>0.08162295523810108</td><td>nan       </td><td>nan       </td><td>-0.5620968341827393</td><td>0.0669776126742363</td><td>-1.2146226167678833</td><td>99999     </td><td>1       </td><td>0            </td><td>nan </td><td>0.004766735633863891</td><td>nan     </td><td>nan     </td><td>-186.07104128601227</td><td>96.61308355256259 </td><td>7.357869720071437   </td><td>nan </td><td>66.41106254567475</td><td>nan     </td><td>nan     </td><td>209.78717445452395</td><td>0      </td><td>-1.247308373451233 </td><td>0.7344738879028191 </td><td>-0.9955946803092957</td><td>5773.816 </td><td>-90.25301122452501 </td><td>-90.25301122452501 </td><td>nan     </td><td>nan     </td><td>15.649286825866614</td><td>-163.9671077947139 </td><td>-24.555644142144015</td></tr>\n",
       "<tr><td><i style='opacity: 0.6'>1,611,709</i></td><td>18.18659863039707 </td><td>11.425191729805025</td><td>16.503777024860206</td><td>8.639310462536828  </td><td>5.8666447194829265 </td><td>9.99021053314209  </td><td>0.7036365270614624</td><td>-0.8931915760040283</td><td>0.053123194724321365</td><td>nan  </td><td>52.281639500974386</td><td>nan      </td><td>nan      </td><td>0.0    </td><td>21.614814425414835</td><td>-0.8060703873634338</td><td>nan          </td><td>nan              </td><td>6.256601               </td><td>nan              </td><td>nan            </td><td>nan                </td><td>6.6638975                </td><td>nan                </td><td>nan            </td><td>nan                </td><td>5.6850376                </td><td>nan                </td><td>nan   </td><td>nan   </td><td>4.654846 </td><td>-0.05126773566007614</td><td>1.4666611798707317e+23</td><td>0.2484262  </td><td>0.6444424 </td><td>-0.10243386775255203</td><td>0.8955961</td><td>nan  </td><td>nan    </td><td>-0.11541291785371718</td><td>nan        </td><td>nan        </td><td>nan  </td><td>nan   </td><td>0.08405587899877405</td><td>nan       </td><td>nan       </td><td>-0.5620968341827393</td><td>0.0669776126742363</td><td>-1.2146226167678833</td><td>99999     </td><td>1       </td><td>0            </td><td>nan </td><td>0.0047537584994812  </td><td>nan     </td><td>nan     </td><td>-186.40118785054798</td><td>97.17315223354157 </td><td>7.952910951827342   </td><td>nan </td><td>66.48740383323538</td><td>nan     </td><td>nan     </td><td>210.3598658007416 </td><td>0      </td><td>-1.247308373451233 </td><td>0.6446346203563409 </td><td>-0.9955946803092957</td><td>5160.5283</td><td>-89.2744102255874  </td><td>-89.2744102255874  </td><td>nan     </td><td>nan     </td><td>13.274847794294757</td><td>-165.87604067238016</td><td>-23.46408831673764 </td></tr>\n",
       "<tr><td><i style='opacity: 0.6'>1,611,710</i></td><td>17.801659106084138</td><td>10.994063605036201</td><td>16.266206413032847</td><td>8.55829804250316   </td><td>5.74247067938198   </td><td>9.99021053314209  </td><td>0.7036365270614624</td><td>-0.8931915760040283</td><td>0.053123194724321365</td><td>nan  </td><td>52.6030894919513  </td><td>nan      </td><td>nan      </td><td>0.0    </td><td>21.625589300459197</td><td>-0.8060703873634338</td><td>nan          </td><td>nan              </td><td>5.077172               </td><td>nan              </td><td>nan            </td><td>nan                </td><td>5.3556504                </td><td>nan                </td><td>nan            </td><td>nan                </td><td>4.6276927                </td><td>nan                </td><td>nan   </td><td>nan   </td><td>4.507982 </td><td>-0.05126773566007614</td><td>1.435617669845495e+23 </td><td>0.71100533 </td><td>0.7585091 </td><td>-0.10243386775255203</td><td>0.8955961</td><td>nan  </td><td>nan    </td><td>-0.11182195701593674</td><td>nan        </td><td>nan        </td><td>nan  </td><td>nan   </td><td>0.08124741721522437</td><td>nan       </td><td>nan       </td><td>-0.5620968341827393</td><td>0.0669776126742363</td><td>-1.2146226167678833</td><td>99999     </td><td>1       </td><td>0            </td><td>nan </td><td>0.004730228712270713</td><td>nan     </td><td>nan     </td><td>-186.38285340650424</td><td>99.48057937118065 </td><td>7.593190154300346   </td><td>nan </td><td>65.7206387796938 </td><td>nan     </td><td>nan     </td><td>211.40626824362514</td><td>0      </td><td>-1.247308373451233 </td><td>0.7591386913124265 </td><td>-0.9955946803092957</td><td>5922.2593</td><td>-91.18185681851935 </td><td>-91.18185681851935 </td><td>nan     </td><td>nan     </td><td>15.256838439138757</td><td>-163.3252054589539 </td><td>-24.379336029180863</td></tr>\n",
       "<tr><td><i style='opacity: 0.6'>1,611,711</i></td><td>8.816373078046515 </td><td>5.5667953040623805</td><td>8.32823005875942  </td><td>4.706684597638084  </td><td>2.843991315498876  </td><td>9.99021053314209  </td><td>0.7036365270614624</td><td>-0.8931915760040283</td><td>0.053123194724321365</td><td>nan  </td><td>52.479161414829846</td><td>nan      </td><td>nan      </td><td>0.0    </td><td>21.613667682089748</td><td>-0.8060703873634338</td><td>nan          </td><td>nan              </td><td>5.4040017              </td><td>nan              </td><td>nan            </td><td>nan                </td><td>5.7124815                </td><td>nan                </td><td>nan            </td><td>nan                </td><td>4.925138                 </td><td>nan                </td><td>nan   </td><td>nan   </td><td>4.5628715</td><td>-0.05126773566007614</td><td>7.1099782887471904e+22</td><td>0.52572614 </td><td>0.7271273 </td><td>-0.10243386775255203</td><td>0.8955961</td><td>nan  </td><td>nan    </td><td>-0.11483079993084422</td><td>nan        </td><td>nan        </td><td>nan  </td><td>nan   </td><td>0.08279535335029264</td><td>nan       </td><td>nan       </td><td>-0.5620968341827393</td><td>0.0669776126742363</td><td>-1.2146226167678833</td><td>99999     </td><td>1       </td><td>0            </td><td>nan </td><td>0.004756269597697463</td><td>nan     </td><td>nan     </td><td>-186.461344941416  </td><td>96.6796112442321  </td><td>9.475214471500287   </td><td>nan </td><td>67.12279484473645</td><td>nan     </td><td>nan     </td><td>210.24880517372387</td><td>0      </td><td>-1.247308373451233 </td><td>0.7273869656881858 </td><td>-0.9955946803092957</td><td>5729.2954</td><td>-88.7516720457417  </td><td>-88.7516720457417  </td><td>nan     </td><td>nan     </td><td>13.603362480412988</td><td>-164.48282279687962</td><td>-23.355289452640978</td></tr>\n",
       "</tbody>\n",
       "</table>"
      ],
      "text/plain": [
       "#          A_0                 A_gaia__dr2_g       A_gaia__dr2_gbp     A_gaia__dr2_grp      E(B-V)               age                 alpha               calcium              carbon                dec    dec_Clean           dec_Err    dec_Sig    dform    dmod                feh                  gaia__dr2_g    gaia__dr2_g_Err    gaia__dr2_g_Intrinsic    gaia__dr2_g_Sig    gaia__dr2_gbp    gaia__dr2_gbp_Err    gaia__dr2_gbp_Intrinsic    gaia__dr2_gbp_Sig    gaia__dr2_grp    gaia__dr2_grp_Err    gaia__dr2_grp_Intrinsic    gaia__dr2_grp_Sig    glat    glon    grav       helium                log10_NH                lum          mact        magnesium             mtip       mub    mudec    mudec_Clean           mudec_Err    mudec_Sig    mul    mura    mura_Clean           mura_Err    mura_Sig    neon                 nitrogen            oxygen               parentid    partid    partitionid    pi    pi_Clean              pi_Err    pi_Sig    px                   py                  pz                    ra    ra_Clean           ra_Err    ra_Sig    rad                 satid    silicon              smass                sulphur              teff       vr                   vr_Clean             vr_Err    vr_Sig    vx                  vy                   vz\n",
       "0          0.7093977911594089  0.5220698544539614  0.709193133907145   0.40556140505219107  0.22883799714819641  10.016325950622559  0.3380742371082306  -1.1830222606658936  -0.39430123567581177  nan    43.89190561692206   nan        nan        0.0      20.87123488088669   -0.8867433071136475  nan            nan                7.8221183                nan                nan              nan                  8.470699                   nan                  nan              nan                  7.0639534                  nan                  nan     nan     4.769691   -0.7315406799316406   5.72094992870491e+21    0.071013965  0.50516033  -0.5486690402030945   0.886202   nan    nan      -0.2413280326361944   nan          nan          nan    nan     0.29630942610455613  nan         nan         -0.7326117157936096  -0.652482807636261  -0.6697278618812561  0           0         0              nan   0.006695037652823929  nan       nan       -142.03525597960677  46.20841677042607   0.692591828190988     nan   73.8027984762779   nan       nan       149.36435788052748  0        -0.7563512325286865  0.5054699889829319   -1.0924330949783325  4285.4614  -156.7385192430598   -156.7385192430598   nan       nan       67.38685760498046   -300.3354850769043   55.13861343383789\n",
       "1          0.7566822063230371  0.5514594111171848  0.7534424991156238  0.4311956707179316   0.2440910342977539   10.016325950622559  0.3380742371082306  -1.1830222606658936  -0.39430123567581177  nan    43.73518629916732   nan        nan        0.0      20.87527071994942   -0.8867433071136475  nan            nan                7.993824                 nan                nan              nan                  8.668457                   nan                  nan              nan                  7.2174444                  nan                  nan     nan     4.7857795  -0.7315406799316406   6.102275857443847e+21   0.06093182   0.48871416  -0.5486690402030945   0.886202   nan    nan      -0.24008076703265266  nan          nan          nan    nan     0.2913066369253815   nan         nan         -0.7326117157936096  -0.652482807636261  -0.6697278618812561  0           1         0              nan   0.006682605995616206  nan       nan       -142.2608617629229   46.417971376138425  -0.11534282804241303  nan   73.42607530130886  nan       nan       149.64222051337467  0        -0.7563512325286865  0.48905900859965035  -1.0924330949783325  4198.5107  -156.97767104891037  -156.97767104891037  nan       nan       67.7484200428451    -298.29957314526564  52.69162146715175\n",
       "2          136.64647824055086  2904.2323916733826  1370.444979191365   78.02675978260831    44.07950910985512    10.016325950622559  0.3380742371082306  -1.1830222606658936  -0.39430123567581177  nan    44.364568278584706  nan        nan        0.0      20.888157433594138  -0.8867433071136475  nan            nan                8.71385                  nan                nan              nan                  9.517461                   nan                  nan              nan                  7.8597684                  nan                  nan     nan     4.8554068  -0.7315406799316406   1.101987727746378e+24   0.03486588   0.42435014  -0.5486690402030945   0.886202   nan    nan      -0.23863717453488734  nan          nan          nan    nan     0.2958006234265731   nan         nan         -0.7326117157936096  -0.652482807636261  -0.6697278618812561  0           1         0              nan   0.006643065174432655  nan       nan       -142.9270461828407   47.20842184009032   1.8396875936103703    nan   74.04989339204981  nan       nan       150.5329202321734   0        -0.7563512325286865  0.4250665825385847   -1.0924330949783325  3935.5205  -158.4535061010785   -158.4535061010785   nan       nan       68.03093236871236   -301.4758806839234   56.09200627357448\n",
       "3          0.7150916084000247  0.59382870248778    0.7598827721299756  0.4223180357513091   0.23067471238710474  10.016325950622559  0.3380742371082306  -1.1830222606658936  -0.39430123567581177  nan    43.89621033939353   nan        nan        0.0      20.86868071849355   -0.8867433071136475  nan            nan                5.1929526                nan                nan              nan                  5.4745564                  nan                  nan              nan                  4.7391353                  nan                  nan     nan     4.5336547  -0.7315406799316406   5.766867809677618e+21   0.6409676    0.74067265  -0.5486690402030945   0.886202   nan    nan      -0.24429902665121836  nan          nan          nan    nan     0.2940592689423018   nan         nan         -0.7326117157936096  -0.652482807636261  -0.6697278618812561  0           1         0              nan   0.006702917225320306  nan       nan       -141.88055546200977  46.1152954631301    0.7600375956495637    nan   73.8447277872187   nan       nan       149.18877354213694  0        -0.7563512325286865  0.7407077517512485   -1.0924330949783325  5891.9644  -156.7353025299949   -156.7353025299949   nan       nan       67.38594209547328   -300.6020691055117   52.577100775679746\n",
       "4          1.186954429367537   0.8135827151766702  1.1563472939090456  0.6614930768091817   0.38288852560243125  10.016325950622559  0.3380742371082306  -1.1830222606658936  -0.39430123567581177  nan    43.93297434426074   nan        nan        0.0      20.879530213898438  -0.8867433071136475  nan            nan                8.90345                  nan                nan              nan                  9.740426                   nan                  nan              nan                  8.03157                    nan                  nan     nan     4.877773   -0.7315406799316406   9.572213140060782e+21   0.02983189   0.4045688   -0.5486690402030945   0.886202   nan    nan      -0.24092819622063047  nan          nan          nan    nan     0.29637706857623397  nan         nan         -0.7326117157936096  -0.652482807636261  -0.6697278618812561  0           1         0              nan   0.006669510447933344  nan       nan       -142.5205780120727   46.565025551705716  0.6324477943182366    nan   73.713875054752    nan       nan       149.93604220379717  0        -0.7563512325286865  0.4050935914883408   -1.0924330949783325  3882.164   -156.2199566593424   -156.2199566593424   nan       nan       66.21987999393174   -301.09107573949996  55.35190950080388\n",
       "...        ...                 ...                 ...                 ...                  ...                  ...                 ...                 ...                  ...                   ...    ...                 ...        ...        ...      ...                 ...                  ...            ...                ...                      ...                ...              ...                  ...                        ...                  ...              ...                  ...                        ...                  ...     ...     ...        ...                   ...                     ...          ...         ...                   ...        ...    ...      ...                   ...          ...          ...    ...     ...                  ...         ...         ...                  ...                 ...                  ...         ...       ...            ...   ...                   ...       ...       ...                  ...                 ...                   ...   ...                ...       ...       ...                 ...      ...                  ...                  ...                  ...        ...                  ...                  ...       ...       ...                 ...                  ...\n",
       "1,611,707  9.84933513556694    5.905034450988529   8.998823684092356   5.115782383513527    3.1772048824409485   9.99021053314209    0.7036365270614624  -0.8931915760040283  0.053123194724321365  nan    52.47591875749927   nan        nan        0.0      21.61297084448185   -0.8060703873634338  nan            nan                6.9566293                nan                nan              nan                  7.4624496                  nan                  nan              nan                  6.302246                   nan                  nan     nan     4.7021213  -0.05126773566007614  7.943012206102372e+22   0.1396583    0.5802463   -0.10243386775255203  0.8955961  nan    nan      -0.1151919563604325   nan          nan          nan    nan     0.08138204404640034  nan         nan         -0.5620968341827393  0.0669776126742363  -1.2146226167678833  99999       1         0              nan   0.004757796156067555  nan       nan       -186.35975038604028  96.74107735172117   9.349095600452486     nan   67.0515975296681   nan       nan       210.18134598404623  0        -1.247308373451233   0.5813063179170757   -0.9955946803092957  4714.454   -90.2409497740284    -90.2409497740284    nan       nan       15.159623414379855  -164.46277627244382  -24.763303315808546\n",
       "1,611,708  13.305286896928763  7.972572810389154   12.199044094449862  6.734497001850923    4.292028031267343    9.99021053314209    0.7036365270614624  -0.8931915760040283  0.053123194724321365  nan    52.10502299677406   nan        nan        0.0      21.608894668241703  -0.8060703873634338  nan            nan                5.3323083                nan                nan              nan                  5.6339135                  nan                  nan              nan                  4.8603163                  nan                  nan     nan     4.551513   -0.05126773566007614  1.0730070078168358e+23  0.5618677    0.73399246  -0.10243386775255203  0.8955961  nan    nan      -0.11464220238473408  nan          nan          nan    nan     0.08162295523810108  nan         nan         -0.5620968341827393  0.0669776126742363  -1.2146226167678833  99999       1         0              nan   0.004766735633863891  nan       nan       -186.07104128601227  96.61308355256259   7.357869720071437     nan   66.41106254567475  nan       nan       209.78717445452395  0        -1.247308373451233   0.7344738879028191   -0.9955946803092957  5773.816   -90.25301122452501   -90.25301122452501   nan       nan       15.649286825866614  -163.9671077947139   -24.555644142144015\n",
       "1,611,709  18.18659863039707   11.425191729805025  16.503777024860206  8.639310462536828    5.8666447194829265   9.99021053314209    0.7036365270614624  -0.8931915760040283  0.053123194724321365  nan    52.281639500974386  nan        nan        0.0      21.614814425414835  -0.8060703873634338  nan            nan                6.256601                 nan                nan              nan                  6.6638975                  nan                  nan              nan                  5.6850376                  nan                  nan     nan     4.654846   -0.05126773566007614  1.4666611798707317e+23  0.2484262    0.6444424   -0.10243386775255203  0.8955961  nan    nan      -0.11541291785371718  nan          nan          nan    nan     0.08405587899877405  nan         nan         -0.5620968341827393  0.0669776126742363  -1.2146226167678833  99999       1         0              nan   0.0047537584994812    nan       nan       -186.40118785054798  97.17315223354157   7.952910951827342     nan   66.48740383323538  nan       nan       210.3598658007416   0        -1.247308373451233   0.6446346203563409   -0.9955946803092957  5160.5283  -89.2744102255874    -89.2744102255874    nan       nan       13.274847794294757  -165.87604067238016  -23.46408831673764\n",
       "1,611,710  17.801659106084138  10.994063605036201  16.266206413032847  8.55829804250316     5.74247067938198     9.99021053314209    0.7036365270614624  -0.8931915760040283  0.053123194724321365  nan    52.6030894919513    nan        nan        0.0      21.625589300459197  -0.8060703873634338  nan            nan                5.077172                 nan                nan              nan                  5.3556504                  nan                  nan              nan                  4.6276927                  nan                  nan     nan     4.507982   -0.05126773566007614  1.435617669845495e+23   0.71100533   0.7585091   -0.10243386775255203  0.8955961  nan    nan      -0.11182195701593674  nan          nan          nan    nan     0.08124741721522437  nan         nan         -0.5620968341827393  0.0669776126742363  -1.2146226167678833  99999       1         0              nan   0.004730228712270713  nan       nan       -186.38285340650424  99.48057937118065   7.593190154300346     nan   65.7206387796938   nan       nan       211.40626824362514  0        -1.247308373451233   0.7591386913124265   -0.9955946803092957  5922.2593  -91.18185681851935   -91.18185681851935   nan       nan       15.256838439138757  -163.3252054589539   -24.379336029180863\n",
       "1,611,711  8.816373078046515   5.5667953040623805  8.32823005875942    4.706684597638084    2.843991315498876    9.99021053314209    0.7036365270614624  -0.8931915760040283  0.053123194724321365  nan    52.479161414829846  nan        nan        0.0      21.613667682089748  -0.8060703873634338  nan            nan                5.4040017                nan                nan              nan                  5.7124815                  nan                  nan              nan                  4.925138                   nan                  nan     nan     4.5628715  -0.05126773566007614  7.1099782887471904e+22  0.52572614   0.7271273   -0.10243386775255203  0.8955961  nan    nan      -0.11483079993084422  nan          nan          nan    nan     0.08279535335029264  nan         nan         -0.5620968341827393  0.0669776126742363  -1.2146226167678833  99999       1         0              nan   0.004756269597697463  nan       nan       -186.461344941416    96.6796112442321    9.475214471500287     nan   67.12279484473645  nan       nan       210.24880517372387  0        -1.247308373451233   0.7273869656881858   -0.9955946803092957  5729.2954  -88.7516720457417    -88.7516720457417    nan       nan       13.603362480412988  -164.48282279687962  -23.355289452640978"
      ]
     },
     "execution_count": 6,
     "metadata": {},
     "output_type": "execute_result"
    }
   ],
   "source": [
    "survey"
   ]
  },
  {
   "cell_type": "markdown",
   "id": "a9a28a5d",
   "metadata": {},
   "source": [
    "Please refer to [`vaex`'s documentation](https://vaex.io/docs/tutorial.html) for further help on how to use `vaex` dataframes: the following line for example isolate only the rows with non-NaN photometry."
   ]
  },
  {
   "cell_type": "code",
   "execution_count": 7,
   "id": "09f840d5",
   "metadata": {},
   "outputs": [
    {
     "data": {
      "text/html": [
       "<table>\n",
       "<thead>\n",
       "<tr><th>#                              </th><th>A_0                </th><th>A_gaia__dr2_g      </th><th>A_gaia__dr2_gbp    </th><th>A_gaia__dr2_grp    </th><th>E(B-V)              </th><th>age              </th><th>alpha              </th><th>calcium            </th><th>carbon              </th><th>dec               </th><th>dec_Clean         </th><th>dec_Err                </th><th>dec_Sig      </th><th>dform  </th><th>dmod              </th><th>feh                 </th><th>gaia__dr2_g  </th><th>gaia__dr2_g_Err       </th><th>gaia__dr2_g_Intrinsic  </th><th>gaia__dr2_g_Sig  </th><th>gaia__dr2_gbp  </th><th>gaia__dr2_gbp_Err    </th><th>gaia__dr2_gbp_Intrinsic  </th><th>gaia__dr2_gbp_Sig  </th><th>gaia__dr2_grp  </th><th>gaia__dr2_grp_Err     </th><th>gaia__dr2_grp_Intrinsic  </th><th>gaia__dr2_grp_Sig  </th><th>glat               </th><th>glon               </th><th>grav      </th><th>helium              </th><th>log10_NH              </th><th>lum      </th><th>mact      </th><th>magnesium           </th><th>mtip      </th><th>mub                 </th><th>mudec               </th><th>mudec_Clean         </th><th>mudec_Err           </th><th>mudec_Sig  </th><th>mul                  </th><th>mura                </th><th>mura_Clean         </th><th>mura_Err           </th><th>mura_Sig  </th><th>neon                </th><th>nitrogen            </th><th>oxygen              </th><th>parentid  </th><th>partid  </th><th>partitionid  </th><th>pi                  </th><th>pi_Clean             </th><th>pi_Err              </th><th>pi_Sig    </th><th>px                 </th><th>py                </th><th>pz                 </th><th>ra                </th><th>ra_Clean         </th><th>ra_Err                 </th><th>ra_Sig       </th><th>rad               </th><th>satid  </th><th>silicon            </th><th>smass             </th><th>sulphur             </th><th>teff     </th><th>vr                 </th><th>vr_Clean           </th><th>vr_Err  </th><th>vr_Sig  </th><th>vx                 </th><th>vy                 </th><th>vz                 </th></tr>\n",
       "</thead>\n",
       "<tbody>\n",
       "<tr><td><i style='opacity: 0.6'>0</i>  </td><td>0.35884632402023736</td><td>0.2624818507694532 </td><td>0.35801790759137203</td><td>0.20466172853140513</td><td>0.11575687871620559 </td><td>9.692870140075684</td><td>0.3099161982536316 </td><td>-1.1548902988433838</td><td>-0.4665657579898834 </td><td>18.868015796305663</td><td>18.868015778565187</td><td>1.7740477296505672e-08 </td><td>1.691274e-07 </td><td>0.0    </td><td>21.118883008502078</td><td>-0.48292723298072815</td><td>19.868202    </td><td>0.012658170630218355  </td><td>-1.5258217             </td><td>0.009227399      </td><td>20.504751      </td><td>-0.16132866071418359 </td><td>-0.8108196               </td><td>0.17850117         </td><td>18.7721        </td><td>-0.22652792657603063  </td><td>-2.3249161               </td><td>0.17850117         </td><td>-14.991976836287702</td><td>-177.95690294976794</td><td>1.2548169 </td><td>-0.27809077501296997</td><td>2.89392196790514e+21  </td><td>448.28244</td><td>1.1287807 </td><td>-0.17301106452941895</td><td>1.1379396 </td><td>-0.15521054578348675</td><td>-1.3589967238651148 </td><td>-0.3270482743773745 </td><td>-1.0319484494877402 </td><td>1.0656426  </td><td>1.5702165708100968   </td><td>0.8017470282407725  </td><td>0.1632684267596954 </td><td>0.638478601481077  </td><td>1.0656426 </td><td>-0.7034189105033875 </td><td>-0.09953558444976807</td><td>-0.4723181426525116 </td><td>49        </td><td>1       </td><td>0            </td><td>-0.6145466549364363 </td><td>0.0059734247671244375</td><td>-0.6205200797035608 </td><td>0.60885864</td><td>-161.6071229139394 </td><td>-5.765154922998849</td><td>-43.30577433967765 </td><td>74.02626514013622 </td><td>74.02626502725049</td><td>1.1288572264651892e-07 </td><td>1.691274e-07 </td><td>167.40815176975815</td><td>0      </td><td>-0.6018809676170349</td><td>1.1408413190663447</td><td>-0.7073405385017395 </td><td>4129.926 </td><td>69.84271348583249  </td><td>69.84271348583249  </td><td>nan     </td><td>nan     </td><td>-44.649975087957735</td><td>-287.75369665394226</td><td>-65.06155285732873 </td></tr>\n",
       "<tr><td><i style='opacity: 0.6'>1</i>  </td><td>0.5999316419840474 </td><td>0.3951491437418692 </td><td>0.5843014320686067 </td><td>0.32756794644856657</td><td>0.19352633612388623 </td><td>9.988179206848145</td><td>0.11780641227960587</td><td>0.09089594334363937</td><td>-0.26741287112236023</td><td>28.32392700064621 </td><td>28.323927151103437</td><td>-1.5045722692676327e-07</td><td>7.903525e-08 </td><td>0.0    </td><td>21.313550824736375</td><td>-0.6772944927215576 </td><td>19.078148    </td><td>0.007681412416285324  </td><td>-2.6382327             </td><td>0.005971381      </td><td>20.259933      </td><td>-0.07032803519170927 </td><td>-1.5675896               </td><td>0.09647448         </td><td>17.950785      </td><td>-0.07180883013983862  </td><td>-3.6185248               </td><td>0.09647448         </td><td>-18.536442761608956</td><td>165.70363972881057 </td><td>0.3074857 </td><td>-0.21355026960372925</td><td>4.838158403097156e+21 </td><td>1852.9218</td><td>0.85137147</td><td>-0.55948805809021   </td><td>0.91256934</td><td>0.3131789409812662  </td><td>-0.10381565378748775</td><td>-0.14986186911488497</td><td>0.04604621532739723 </td><td>0.55013824 </td><td>0.48286076265325345  </td><td>0.5660899886174509  </td><td>0.1728590301091314 </td><td>0.39323095850831946</td><td>0.55013824</td><td>-0.3997773826122284 </td><td>-0.7002913355827332 </td><td>-0.08155464380979538</td><td>144       </td><td>1       </td><td>0            </td><td>-0.15274891158827747</td><td>0.005461222050076331 </td><td>-0.1582101336383538 </td><td>0.2845269 </td><td>-168.233346583228  </td><td>42.8707615557611  </td><td>-58.21183715231835 </td><td>59.864629221697925</td><td>59.86462915929865</td><td>6.239927571995072e-08  </td><td>7.903525e-08 </td><td>183.10919988796704</td><td>0      </td><td>-0.3103104829788208</td><td>0.914106032084624 </td><td>-0.38073936104774475</td><td>3662.81  </td><td>-25.762507382985724</td><td>-25.762507382985724</td><td>nan     </td><td>nan     </td><td>-27.923177997805908</td><td>-197.62939339603813</td><td>16.189820511232778 </td></tr>\n",
       "<tr><td><i style='opacity: 0.6'>2</i>  </td><td>0.17608195267994303</td><td>0.1377033942738126 </td><td>0.1808537019520944 </td><td>0.10255663320845036</td><td>0.056800629896755814</td><td>9.579007148742676</td><td>-0.6709350943565369</td><td>-0.9936923980712891</td><td>-0.9404328465461731 </td><td>33.04906634892174 </td><td>33.04906634871992 </td><td>2.0182171922849153e-10 </td><td>3.6569543e-07</td><td>0.0    </td><td>21.38615087842112 </td><td>-0.9346992373466492 </td><td>20.56803     </td><td>-0.03600744374280186  </td><td>-0.9198183             </td><td>0.014033196      </td><td>21.098215      </td><td>-0.07126815067421044 </td><td>-0.3975206               </td><td>0.32202673         </td><td>19.32279       </td><td>-0.5803682522135298   </td><td>-1.585548                </td><td>0.32202673         </td><td>-8.484585766867523 </td><td>168.82659578503788 </td><td>1.813334  </td><td>-0.15246030688285828</td><td>1.4200157474188954e+21</td><td>204.61284</td><td>1.146     </td><td>-1.605634331703186  </td><td>1.1506394 </td><td>-0.33249713324821484</td><td>-1.1621686215766727 </td><td>-0.12728573316172526</td><td>-1.0348828884149475 </td><td>2.0831733  </td><td>1.2421141410353262   </td><td>0.550241745054646   </td><td>0.13419926585904626</td><td>0.4160424791955997 </td><td>2.0831733 </td><td>-0.9467113018035889 </td><td>-0.7777135372161865 </td><td>-0.36034896969795227</td><td>355       </td><td>1       </td><td>0            </td><td>-2.8237769876652146 </td><td>0.005281652504745024 </td><td>-2.8290586401699596 </td><td>1.3165035 </td><td>-183.71300451489623</td><td>36.287543243958545</td><td>-27.935070617658067</td><td>70.77774203758443 </td><td>70.77774167688843</td><td>3.6069600030252607e-07 </td><td>3.6569543e-07</td><td>189.33468248840725</td><td>0      </td><td>-0.7150757312774658</td><td>1.1526367829812323</td><td>-0.12857705354690552</td><td>4663.5015</td><td>-75.65222985360518 </td><td>-75.65222985360518 </td><td>nan     </td><td>nan     </td><td>38.83221747966123  </td><td>-175.9006125758071 </td><td>28.874331454692708 </td></tr>\n",
       "<tr><td><i style='opacity: 0.6'>3</i>  </td><td>0.17861174988368242</td><td>0.1289203334992828 </td><td>0.17747823031542842</td><td>0.10134747520582786</td><td>0.05761669351086529 </td><td>9.481425285339355</td><td>-1.1020725965499878</td><td>-1.0413920879364014</td><td>-0.5413622856140137 </td><td>28.239365554203452</td><td>28.239365380658118</td><td>1.735453331636329e-07  </td><td>2.606068e-07 </td><td>0.0    </td><td>21.781771243448272</td><td>-0.2500181496143341 </td><td>20.272312    </td><td>-0.006433955642751986 </td><td>-1.6319455             </td><td>0.0116908895     </td><td>21.282545      </td><td>0.17120013764702185  </td><td>-0.8479041               </td><td>0.24911553         </td><td>19.201895      </td><td>-0.20884711491488975  </td><td>-2.4723763               </td><td>0.24911553         </td><td>-4.592810387657223 </td><td>177.86633782029148 </td><td>1.2065276 </td><td>-0.8023523092269897 </td><td>1.4404173377716324e+21</td><td>537.386  </td><td>1.3710679 </td><td>-1.3520907163619995 </td><td>1.369177  </td><td>0.8879077655799169  </td><td>0.7300725836482986  </td><td>-0.21737501118535796</td><td>0.9474475948336566  </td><td>1.551452   </td><td>-0.2790217047755679  </td><td>0.5772584642238549  </td><td>0.15078156191789757</td><td>0.42647690230595725</td><td>1.551452  </td><td>-0.6431713700294495 </td><td>-0.4919672906398773 </td><td>-0.6521893739700317 </td><td>359       </td><td>1       </td><td>0            </td><td>0.4967736437882954  </td><td>0.004401956548212814 </td><td>0.4923716872400826  </td><td>0.93818444</td><td>-226.2852534985749 </td><td>8.430630112877303 </td><td>-18.190511827582274</td><td>80.6929868604775  </td><td>80.69298721775455</td><td>-3.572770414100613e-07 </td><td>2.606068e-07 </td><td>227.17171081709066</td><td>0      </td><td>-0.7507328391075134</td><td>1.3773316962276039</td><td>-0.6594099998474121 </td><td>4003.228 </td><td>27.33035105089606  </td><td>27.33035105089606  </td><td>nan     </td><td>nan     </td><td>-38.03903369359221 </td><td>-283.6631352491681 </td><td>0.4139964206713862 </td></tr>\n",
       "<tr><td><i style='opacity: 0.6'>4</i>  </td><td>0.9458204736945286 </td><td>0.6678443096074758 </td><td>0.9305774830300422 </td><td>0.5330434047236321 </td><td>0.30510337861113823 </td><td>9.603869438171387</td><td>0.19408565759658813</td><td>-0.6169882416725159</td><td>-0.7964903116226196 </td><td>32.353069660512055</td><td>32.35306979227988 </td><td>-1.3176782507459781e-07</td><td>1.0227677e-07</td><td>0.0    </td><td>21.17193983212506 </td><td>-0.869421124458313  </td><td>19.34399     </td><td>-0.0006781485567268116</td><td>-2.495115              </td><td>0.0069470913     </td><td>20.299686      </td><td>-0.07008269042370177 </td><td>-1.7327482               </td><td>0.11953725         </td><td>18.383387      </td><td>-3.715706189872538e-05</td><td>-3.3215604               </td><td>0.11953725         </td><td>-6.795830400723483 </td><td>171.12720912421037 </td><td>0.82894164</td><td>-1.036791443824768  </td><td>7.627584465278456e+21 </td><td>1142.3359</td><td>1.1365215 </td><td>-0.6753354668617249 </td><td>1.1560693 </td><td>-0.1418502376652222 </td><td>-0.09612761524104924</td><td>-0.3959260269578005 </td><td>0.29979841171675126 </td><td>0.6884891  </td><td>0.010582078436602268 </td><td>-0.10484727892409637</td><td>0.23107472902875995</td><td>-0.3359220079528563</td><td>0.6884891 </td><td>-0.7131249904632568 </td><td>-1.3325629234313965 </td><td>-0.8150839805603027 </td><td>490       </td><td>1       </td><td>0            </td><td>0.3358544398487548  </td><td>0.0058292413049786124</td><td>0.33002519854377615 </td><td>0.36819637</td><td>-168.30516566392842</td><td>26.27400588210036 </td><td>-20.29967534295857 </td><td>74.04671686055354 </td><td>74.04671679787202</td><td>6.268152637233299e-08  </td><td>1.0227677e-07</td><td>171.54891137306745</td><td>0      </td><td>-0.327743262052536 </td><td>1.159396049264403 </td><td>-0.09074452519416809</td><td>4076.2021</td><td>-19.64436147888908 </td><td>-19.64436147888908 </td><td>nan     </td><td>nan     </td><td>-31.620475053741032</td><td>-368.72625625434716</td><td>-49.06766686013123 </td></tr>\n",
       "<tr><td>...                            </td><td>...                </td><td>...                </td><td>...                </td><td>...                </td><td>...                 </td><td>...              </td><td>...                </td><td>...                </td><td>...                 </td><td>...               </td><td>...               </td><td>...                    </td><td>...          </td><td>...    </td><td>...               </td><td>...                 </td><td>...          </td><td>...                   </td><td>...                    </td><td>...              </td><td>...            </td><td>...                  </td><td>...                      </td><td>...                </td><td>...            </td><td>...                   </td><td>...                      </td><td>...                </td><td>...                </td><td>...                </td><td>...       </td><td>...                 </td><td>...                   </td><td>...      </td><td>...       </td><td>...                 </td><td>...       </td><td>...                 </td><td>...                 </td><td>...                 </td><td>...                 </td><td>...        </td><td>...                  </td><td>...                 </td><td>...                </td><td>...                </td><td>...       </td><td>...                 </td><td>...                 </td><td>...                 </td><td>...       </td><td>...     </td><td>...          </td><td>...                 </td><td>...                  </td><td>...                 </td><td>...       </td><td>...                </td><td>...               </td><td>...                </td><td>...               </td><td>...              </td><td>...                    </td><td>...          </td><td>...               </td><td>...    </td><td>...                </td><td>...               </td><td>...                 </td><td>...      </td><td>...                </td><td>...                </td><td>...     </td><td>...     </td><td>...                </td><td>...                </td><td>...                </td></tr>\n",
       "<tr><td><i style='opacity: 0.6'>674</i></td><td>0.15101800345893537</td><td>0.11829324025722408</td><td>0.15522325571096277</td><td>0.08800020566498573</td><td>0.04871548498675335 </td><td>9.534515380859375</td><td>1.2677661180496216 </td><td>-0.4057428538799286</td><td>-0.59430992603302   </td><td>21.343534159941314</td><td>21.343534771358268</td><td>-6.11416954624569e-07  </td><td>3.1462778e-07</td><td>0.0    </td><td>21.592642702411716</td><td>-1.1074150800704956 </td><td>20.454937    </td><td>-0.005222778643958658 </td><td>-1.2507769             </td><td>0.012943381      </td><td>21.053337      </td><td>0.03625308061370761  </td><td>-0.73078275              </td><td>0.2874478          </td><td>19.719486      </td><td>-0.045624436526205674 </td><td>-1.9155316               </td><td>0.2874478          </td><td>-17.50374051982785 </td><td>176.7477689805897  </td><td>1.6993186 </td><td>-0.45311951637268066</td><td>1.2178871246688339e+21</td><td>276.45468</td><td>1.174     </td><td>0.16035111248493195 </td><td>1.1788915 </td><td>-0.20376656041788468</td><td>-0.11886161920922567</td><td>-0.24669595958355095</td><td>0.12783434037432528 </td><td>1.8276072  </td><td>-0.014066707641402085</td><td>-0.16610418082446085</td><td>0.13304276676793134</td><td>-0.2991469475923922</td><td>1.8276072 </td><td>-0.48284637928009033</td><td>-0.3429383337497711 </td><td>-0.361402690410614  </td><td>99192     </td><td>1       </td><td>0            </td><td>1.1484148018479465  </td><td>0.004802545183696617 </td><td>1.14361225666425    </td><td>1.13266   </td><td>-198.26182050196047</td><td>11.265869808201476</td><td>-62.626805117261114</td><td>68.59347486776855 </td><td>68.59347435969208</td><td>5.080764713807229e-07  </td><td>3.1462778e-07</td><td>208.2229238352068 </td><td>0      </td><td>-1.429317593574524 </td><td>1.1812293030115915</td><td>-0.13839608430862427</td><td>4680.429 </td><td>35.33961960826008  </td><td>35.33961960826008  </td><td>nan     </td><td>nan     </td><td>-32.91202385958913 </td><td>-269.96195551855874</td><td>-61.869312861074555</td></tr>\n",
       "<tr><td><i style='opacity: 0.6'>675</i></td><td>0.9635104765596736 </td><td>0.7031919691501277 </td><td>0.959837437511121  </td><td>0.5493862070334281 </td><td>0.3108098311482818  </td><td>9.301492691040039</td><td>0.18354283273220062</td><td>-0.7873296141624451</td><td>-0.5832746028900146 </td><td>36.29390846857704 </td><td>36.29390899617847 </td><td>-5.276014372685639e-07 </td><td>5.21441e-07  </td><td>0.0    </td><td>21.986108149698197</td><td>-0.6020106673240662 </td><td>20.938156    </td><td>-0.00258938495380322  </td><td>-1.7485539             </td><td>0.01696236       </td><td>21.846714      </td><td>0.0033400161006579407</td><td>-1.1025709               </td><td>0.42019537         </td><td>20.104744      </td><td>0.07144425513196052   </td><td>-2.5021954               </td><td>0.42019537         </td><td>-18.737551560069804</td><td>151.75488224208468 </td><td>1.3968682 </td><td>-0.5497167110443115 </td><td>7.770245778707045e+21 </td><td>504.3772 </td><td>1.508     </td><td>-0.41846781969070435</td><td>1.501947  </td><td>3.2997473932178725  </td><td>-0.28967745228217223</td><td>-0.11117319854321675</td><td>-0.17850425373895545</td><td>2.8375878  </td><td>5.7913271564401985   </td><td>6.6591208177663495  </td><td>0.07693864569556053</td><td>6.582182172070789  </td><td>2.8375878 </td><td>-0.7871666550636292 </td><td>-0.6889442801475525 </td><td>-0.6478202939033508 </td><td>99272     </td><td>1       </td><td>0            </td><td>-0.6687868125300893 </td><td>0.0040066219879398525</td><td>-0.6727934345180292 </td><td>1.8771876 </td><td>-208.21571827861288</td><td>111.85547750288215</td><td>-80.17569728370337 </td><td>47.362472657112995</td><td>47.36247304202979</td><td>-3.849167924330201e-07 </td><td>5.21441e-07  </td><td>249.5868097889079 </td><td>0      </td><td>-0.3253461718559265</td><td>1.510235532950821 </td><td>-0.967689037322998  </td><td>4293.1353</td><td>-70.868963522902   </td><td>-70.868963522902   </td><td>nan     </td><td>nan     </td><td>7.312308989325453  </td><td>-170.89071803084343</td><td>-36.78972701008118 </td></tr>\n",
       "<tr><td><i style='opacity: 0.6'>676</i></td><td>0.3750031211886208 </td><td>0.2833811377618397 </td><td>0.37916049794709683</td><td>0.21619101278043096</td><td>0.12096874877052283 </td><td>10.16224193572998</td><td>-0.5301219820976257</td><td>-0.6149452328681946</td><td>-0.9359602928161621 </td><td>20.238646758946217</td><td>20.238646073291463</td><td>6.856547555591803e-07  </td><td>4.3608154e-07</td><td>0.0    </td><td>21.28507619772096 </td><td>-0.466217964887619  </td><td>20.76201     </td><td>-0.009498002225838745 </td><td>-0.7969467             </td><td>0.015419783      </td><td>20.97355       </td><td>-0.4993928131066979  </td><td>-0.19129108              </td><td>0.3675803          </td><td>19.7897        </td><td>-0.1881952233286074   </td><td>-1.5233725               </td><td>0.3675803          </td><td>-25.702886990754198</td><td>170.24573776609319 </td><td>1.5625119 </td><td>-0.6190789937973022 </td><td>3.024218719263071e+21 </td><td>199.88933</td><td>0.792     </td><td>-0.9963399171829224 </td><td>0.87786406</td><td>0.4236895805365016  </td><td>0.9520933879339334  </td><td>-0.206467772701863  </td><td>1.1585611606357964  </td><td>2.4282553  </td><td>-0.9299044207050994  </td><td>-0.3711512804161766 </td><td>0.11890487188601176</td><td>-0.4900561523021884</td><td>2.4282553 </td><td>-0.6988312005996704 </td><td>-0.2878437340259552 </td><td>-0.5345746278762817 </td><td>99878     </td><td>0       </td><td>0            </td><td>-1.7825581982250396 </td><td>0.005533306923089111 </td><td>-1.7880915051481288 </td><td>1.5698935 </td><td>-160.48793847472396</td><td>27.589162658182417</td><td>-78.38070567241937 </td><td>57.76421066762154 </td><td>57.76421003056191</td><td>6.370596314964964e-07  </td><td>4.3608154e-07</td><td>180.72375414912358</td><td>0      </td><td>-1.3189185857772827</td><td>0.8813156093858641</td><td>-0.7903018593788147 </td><td>4401.795 </td><td>-4.640823433510388 </td><td>-4.640823433510388 </td><td>nan     </td><td>nan     </td><td>-5.309618854522705 </td><td>-198.32230911254882</td><td>-48.23520782470703 </td></tr>\n",
       "<tr><td><i style='opacity: 0.6'>677</i></td><td>3.2573106481378646 </td><td>2.2137026339358314 </td><td>3.148744967640901  </td><td>1.812492883921312  </td><td>1.050745370367053   </td><td>9.713021278381348</td><td>1.1312025785446167 </td><td>-0.9191203713417053</td><td>-0.03498087450861931</td><td>32.19865945514826 </td><td>32.198659769203914</td><td>-3.1405565121668e-07   </td><td>5.04319e-07  </td><td>0.0    </td><td>21.54974334945573 </td><td>-1.7587264776229858 </td><td>20.905123    </td><td>-0.004074007588229828 </td><td>-2.8542504             </td><td>0.016663374      </td><td>22.090984      </td><td>-0.36655122087409825 </td><td>-2.2409532               </td><td>0.4098431          </td><td>19.830896      </td><td>0.05489917004070952   </td><td>-3.5862386               </td><td>0.4098431          </td><td>-8.14277480376726  </td><td>170.2343085995188  </td><td>0.909421  </td><td>-0.8930411338806152 </td><td>2.626863425917633e+22 </td><td>1282.1752</td><td>1.0054736 </td><td>-0.6275238394737244 </td><td>1.034234  </td><td>3.7693525484091794  </td><td>3.7578791566953673  </td><td>-0.2190059146437332 </td><td>3.9768850713391006  </td><td>2.7561986  </td><td>-1.767775307312533   </td><td>1.7920358297247334  </td><td>0.17764813936483134</td><td>1.6143876903599021 </td><td>2.7561986 </td><td>-0.22640863060951233</td><td>-0.433468759059906  </td><td>-0.06262025982141495</td><td>99897     </td><td>1       </td><td>0            </td><td>0.512121779005605   </td><td>0.004898367107000539 </td><td>0.5072234118986044  </td><td>1.8155484 </td><td>-199.1630888478725 </td><td>34.27863511741595 </td><td>-28.91581930639344 </td><td>72.14905734016035 </td><td>72.14905771278723</td><td>-3.7262687352547246e-07</td><td>5.04319e-07  </td><td>204.14966419540957</td><td>0      </td><td>-0.4352078139781952</td><td>1.035315803776429 </td><td>0.16094648838043213 </td><td>4533.121 </td><td>-51.247183737712234</td><td>-51.247183737712234</td><td>nan     </td><td>nan     </td><td>3.9261128581479183 </td><td>-277.59097640649327</td><td>5.696494128336444  </td></tr>\n",
       "<tr><td><i style='opacity: 0.6'>678</i></td><td>0.26411054177709836</td><td>0.24539035305851573</td><td>0.2973659058618345 </td><td>0.15968213998503117</td><td>0.0851969489603543  </td><td>8.829378128051758</td><td>0.945320188999176  </td><td>-1.3487151861190796</td><td>-0.32563573122024536</td><td>35.85495989711826 </td><td>35.8549602904271  </td><td>-3.933088386264988e-07 </td><td>2.846336e-07 </td><td>0.0    </td><td>21.455110431946277</td><td>-1.5585298538208008 </td><td>20.364681    </td><td>0.0008218263761016395 </td><td>-1.3366417             </td><td>0.012262382      </td><td>20.276108      </td><td>-0.21644250444128993 </td><td>-1.2599249               </td><td>0.26641363         </td><td>20.328588      </td><td>0.18773063435298895   </td><td>-1.4739338               </td><td>0.26641363         </td><td>-13.655983988490423</td><td>159.63295240619402 </td><td>2.855254  </td><td>-0.06979773193597794</td><td>2.1299237240088575e+21</td><td>256.32266</td><td>2.0916967 </td><td>-0.6132096648216248 </td><td>2.002991  </td><td>0.5167124356330225  </td><td>0.27332072910096816 </td><td>-0.2267884781892188 </td><td>0.5001092072901869  </td><td>1.6750921  </td><td>0.17761734906933682  </td><td>0.47311250551210815 </td><td>0.22626059300545187</td><td>0.24685191250665628</td><td>1.6750921 </td><td>-0.40418189764022827</td><td>-0.7111912369728088 </td><td>-0.6041487455368042 </td><td>99991     </td><td>1       </td><td>0            </td><td>-0.28459530358991986</td><td>0.005116558142176689 </td><td>-0.28971186173209657</td><td>1.0246809 </td><td>-178.04555096862958</td><td>66.09801073444817 </td><td>-46.142679315128845</td><td>58.62774848228099 </td><td>58.62774870405757</td><td>-2.2177657977211457e-07</td><td>2.846336e-07 </td><td>195.4438847780941 </td><td>0      </td><td>-0.5130423903465271</td><td>2.091994004496485 </td><td>-0.10513915121555328</td><td>7735.15  </td><td>-73.44707433898377 </td><td>-73.44707433898377 </td><td>nan     </td><td>nan     </td><td>-31.489219320865587</td><td>-304.1184333153507 </td><td>-3.04114398973808  </td></tr>\n",
       "</tbody>\n",
       "</table>"
      ],
      "text/plain": [
       "#    A_0                  A_gaia__dr2_g        A_gaia__dr2_gbp      A_gaia__dr2_grp      E(B-V)                age                alpha                calcium              carbon                dec                 dec_Clean           dec_Err                  dec_Sig        dform    dmod                feh                   gaia__dr2_g    gaia__dr2_g_Err         gaia__dr2_g_Intrinsic    gaia__dr2_g_Sig    gaia__dr2_gbp    gaia__dr2_gbp_Err      gaia__dr2_gbp_Intrinsic    gaia__dr2_gbp_Sig    gaia__dr2_grp    gaia__dr2_grp_Err       gaia__dr2_grp_Intrinsic    gaia__dr2_grp_Sig    glat                 glon                 grav        helium                log10_NH                lum        mact        magnesium             mtip        mub                   mudec                 mudec_Clean           mudec_Err             mudec_Sig    mul                    mura                  mura_Clean           mura_Err             mura_Sig    neon                  nitrogen              oxygen                parentid    partid    partitionid    pi                    pi_Clean               pi_Err                pi_Sig      px                   py                  pz                   ra                  ra_Clean           ra_Err                   ra_Sig         rad                 satid    silicon              smass               sulphur               teff       vr                   vr_Clean             vr_Err    vr_Sig    vx                   vy                   vz\n",
       "0    0.35884632402023736  0.2624818507694532   0.35801790759137203  0.20466172853140513  0.11575687871620559   9.692870140075684  0.3099161982536316   -1.1548902988433838  -0.4665657579898834   18.868015796305663  18.868015778565187  1.7740477296505672e-08   1.691274e-07   0.0      21.118883008502078  -0.48292723298072815  19.868202      0.012658170630218355    -1.5258217               0.009227399        20.504751        -0.16132866071418359   -0.8108196                 0.17850117           18.7721          -0.22652792657603063    -2.3249161                 0.17850117           -14.991976836287702  -177.95690294976794  1.2548169   -0.27809077501296997  2.89392196790514e+21    448.28244  1.1287807   -0.17301106452941895  1.1379396   -0.15521054578348675  -1.3589967238651148   -0.3270482743773745   -1.0319484494877402   1.0656426    1.5702165708100968     0.8017470282407725    0.1632684267596954   0.638478601481077    1.0656426   -0.7034189105033875   -0.09953558444976807  -0.4723181426525116   49          1         0              -0.6145466549364363   0.0059734247671244375  -0.6205200797035608   0.60885864  -161.6071229139394   -5.765154922998849  -43.30577433967765   74.02626514013622   74.02626502725049  1.1288572264651892e-07   1.691274e-07   167.40815176975815  0        -0.6018809676170349  1.1408413190663447  -0.7073405385017395   4129.926   69.84271348583249    69.84271348583249    nan       nan       -44.649975087957735  -287.75369665394226  -65.06155285732873\n",
       "1    0.5999316419840474   0.3951491437418692   0.5843014320686067   0.32756794644856657  0.19352633612388623   9.988179206848145  0.11780641227960587  0.09089594334363937  -0.26741287112236023  28.32392700064621   28.323927151103437  -1.5045722692676327e-07  7.903525e-08   0.0      21.313550824736375  -0.6772944927215576   19.078148      0.007681412416285324    -2.6382327               0.005971381        20.259933        -0.07032803519170927   -1.5675896                 0.09647448           17.950785        -0.07180883013983862    -3.6185248                 0.09647448           -18.536442761608956  165.70363972881057   0.3074857   -0.21355026960372925  4.838158403097156e+21   1852.9218  0.85137147  -0.55948805809021     0.91256934  0.3131789409812662    -0.10381565378748775  -0.14986186911488497  0.04604621532739723   0.55013824   0.48286076265325345    0.5660899886174509    0.1728590301091314   0.39323095850831946  0.55013824  -0.3997773826122284   -0.7002913355827332   -0.08155464380979538  144         1         0              -0.15274891158827747  0.005461222050076331   -0.1582101336383538   0.2845269   -168.233346583228    42.8707615557611    -58.21183715231835   59.864629221697925  59.86462915929865  6.239927571995072e-08    7.903525e-08   183.10919988796704  0        -0.3103104829788208  0.914106032084624   -0.38073936104774475  3662.81    -25.762507382985724  -25.762507382985724  nan       nan       -27.923177997805908  -197.62939339603813  16.189820511232778\n",
       "2    0.17608195267994303  0.1377033942738126   0.1808537019520944   0.10255663320845036  0.056800629896755814  9.579007148742676  -0.6709350943565369  -0.9936923980712891  -0.9404328465461731   33.04906634892174   33.04906634871992   2.0182171922849153e-10   3.6569543e-07  0.0      21.38615087842112   -0.9346992373466492   20.56803       -0.03600744374280186    -0.9198183               0.014033196        21.098215        -0.07126815067421044   -0.3975206                 0.32202673           19.32279         -0.5803682522135298     -1.585548                  0.32202673           -8.484585766867523   168.82659578503788   1.813334    -0.15246030688285828  1.4200157474188954e+21  204.61284  1.146       -1.605634331703186    1.1506394   -0.33249713324821484  -1.1621686215766727   -0.12728573316172526  -1.0348828884149475   2.0831733    1.2421141410353262     0.550241745054646     0.13419926585904626  0.4160424791955997   2.0831733   -0.9467113018035889   -0.7777135372161865   -0.36034896969795227  355         1         0              -2.8237769876652146   0.005281652504745024   -2.8290586401699596   1.3165035   -183.71300451489623  36.287543243958545  -27.935070617658067  70.77774203758443   70.77774167688843  3.6069600030252607e-07   3.6569543e-07  189.33468248840725  0        -0.7150757312774658  1.1526367829812323  -0.12857705354690552  4663.5015  -75.65222985360518   -75.65222985360518   nan       nan       38.83221747966123    -175.9006125758071   28.874331454692708\n",
       "3    0.17861174988368242  0.1289203334992828   0.17747823031542842  0.10134747520582786  0.05761669351086529   9.481425285339355  -1.1020725965499878  -1.0413920879364014  -0.5413622856140137   28.239365554203452  28.239365380658118  1.735453331636329e-07    2.606068e-07   0.0      21.781771243448272  -0.2500181496143341   20.272312      -0.006433955642751986   -1.6319455               0.0116908895       21.282545        0.17120013764702185    -0.8479041                 0.24911553           19.201895        -0.20884711491488975    -2.4723763                 0.24911553           -4.592810387657223   177.86633782029148   1.2065276   -0.8023523092269897   1.4404173377716324e+21  537.386    1.3710679   -1.3520907163619995   1.369177    0.8879077655799169    0.7300725836482986    -0.21737501118535796  0.9474475948336566    1.551452     -0.2790217047755679    0.5772584642238549    0.15078156191789757  0.42647690230595725  1.551452    -0.6431713700294495   -0.4919672906398773   -0.6521893739700317   359         1         0              0.4967736437882954    0.004401956548212814   0.4923716872400826    0.93818444  -226.2852534985749   8.430630112877303   -18.190511827582274  80.6929868604775    80.69298721775455  -3.572770414100613e-07   2.606068e-07   227.17171081709066  0        -0.7507328391075134  1.3773316962276039  -0.6594099998474121   4003.228   27.33035105089606    27.33035105089606    nan       nan       -38.03903369359221   -283.6631352491681   0.4139964206713862\n",
       "4    0.9458204736945286   0.6678443096074758   0.9305774830300422   0.5330434047236321   0.30510337861113823   9.603869438171387  0.19408565759658813  -0.6169882416725159  -0.7964903116226196   32.353069660512055  32.35306979227988   -1.3176782507459781e-07  1.0227677e-07  0.0      21.17193983212506   -0.869421124458313    19.34399       -0.0006781485567268116  -2.495115                0.0069470913       20.299686        -0.07008269042370177   -1.7327482                 0.11953725           18.383387        -3.715706189872538e-05  -3.3215604                 0.11953725           -6.795830400723483   171.12720912421037   0.82894164  -1.036791443824768    7.627584465278456e+21   1142.3359  1.1365215   -0.6753354668617249   1.1560693   -0.1418502376652222   -0.09612761524104924  -0.3959260269578005   0.29979841171675126   0.6884891    0.010582078436602268   -0.10484727892409637  0.23107472902875995  -0.3359220079528563  0.6884891   -0.7131249904632568   -1.3325629234313965   -0.8150839805603027   490         1         0              0.3358544398487548    0.0058292413049786124  0.33002519854377615   0.36819637  -168.30516566392842  26.27400588210036   -20.29967534295857   74.04671686055354   74.04671679787202  6.268152637233299e-08    1.0227677e-07  171.54891137306745  0        -0.327743262052536   1.159396049264403   -0.09074452519416809  4076.2021  -19.64436147888908   -19.64436147888908   nan       nan       -31.620475053741032  -368.72625625434716  -49.06766686013123\n",
       "...  ...                  ...                  ...                  ...                  ...                   ...                ...                  ...                  ...                   ...                 ...                 ...                      ...            ...      ...                 ...                   ...            ...                     ...                      ...                ...              ...                    ...                        ...                  ...              ...                     ...                        ...                  ...                  ...                  ...         ...                   ...                     ...        ...         ...                   ...         ...                   ...                   ...                   ...                   ...          ...                    ...                   ...                  ...                  ...         ...                   ...                   ...                   ...         ...       ...            ...                   ...                    ...                   ...         ...                  ...                 ...                  ...                 ...                ...                      ...            ...                 ...      ...                  ...                 ...                   ...        ...                  ...                  ...       ...       ...                  ...                  ...\n",
       "674  0.15101800345893537  0.11829324025722408  0.15522325571096277  0.08800020566498573  0.04871548498675335   9.534515380859375  1.2677661180496216   -0.4057428538799286  -0.59430992603302     21.343534159941314  21.343534771358268  -6.11416954624569e-07    3.1462778e-07  0.0      21.592642702411716  -1.1074150800704956   20.454937      -0.005222778643958658   -1.2507769               0.012943381        21.053337        0.03625308061370761    -0.73078275                0.2874478            19.719486        -0.045624436526205674   -1.9155316                 0.2874478            -17.50374051982785   176.7477689805897    1.6993186   -0.45311951637268066  1.2178871246688339e+21  276.45468  1.174       0.16035111248493195   1.1788915   -0.20376656041788468  -0.11886161920922567  -0.24669595958355095  0.12783434037432528   1.8276072    -0.014066707641402085  -0.16610418082446085  0.13304276676793134  -0.2991469475923922  1.8276072   -0.48284637928009033  -0.3429383337497711   -0.361402690410614    99192       1         0              1.1484148018479465    0.004802545183696617   1.14361225666425      1.13266     -198.26182050196047  11.265869808201476  -62.626805117261114  68.59347486776855   68.59347435969208  5.080764713807229e-07    3.1462778e-07  208.2229238352068   0        -1.429317593574524   1.1812293030115915  -0.13839608430862427  4680.429   35.33961960826008    35.33961960826008    nan       nan       -32.91202385958913   -269.96195551855874  -61.869312861074555\n",
       "675  0.9635104765596736   0.7031919691501277   0.959837437511121    0.5493862070334281   0.3108098311482818    9.301492691040039  0.18354283273220062  -0.7873296141624451  -0.5832746028900146   36.29390846857704   36.29390899617847   -5.276014372685639e-07   5.21441e-07    0.0      21.986108149698197  -0.6020106673240662   20.938156      -0.00258938495380322    -1.7485539               0.01696236         21.846714        0.0033400161006579407  -1.1025709                 0.42019537           20.104744        0.07144425513196052     -2.5021954                 0.42019537           -18.737551560069804  151.75488224208468   1.3968682   -0.5497167110443115   7.770245778707045e+21   504.3772   1.508       -0.41846781969070435  1.501947    3.2997473932178725    -0.28967745228217223  -0.11117319854321675  -0.17850425373895545  2.8375878    5.7913271564401985     6.6591208177663495    0.07693864569556053  6.582182172070789    2.8375878   -0.7871666550636292   -0.6889442801475525   -0.6478202939033508   99272       1         0              -0.6687868125300893   0.0040066219879398525  -0.6727934345180292   1.8771876   -208.21571827861288  111.85547750288215  -80.17569728370337   47.362472657112995  47.36247304202979  -3.849167924330201e-07   5.21441e-07    249.5868097889079   0        -0.3253461718559265  1.510235532950821   -0.967689037322998    4293.1353  -70.868963522902     -70.868963522902     nan       nan       7.312308989325453    -170.89071803084343  -36.78972701008118\n",
       "676  0.3750031211886208   0.2833811377618397   0.37916049794709683  0.21619101278043096  0.12096874877052283   10.16224193572998  -0.5301219820976257  -0.6149452328681946  -0.9359602928161621   20.238646758946217  20.238646073291463  6.856547555591803e-07    4.3608154e-07  0.0      21.28507619772096   -0.466217964887619    20.76201       -0.009498002225838745   -0.7969467               0.015419783        20.97355         -0.4993928131066979    -0.19129108                0.3675803            19.7897          -0.1881952233286074     -1.5233725                 0.3675803            -25.702886990754198  170.24573776609319   1.5625119   -0.6190789937973022   3.024218719263071e+21   199.88933  0.792       -0.9963399171829224   0.87786406  0.4236895805365016    0.9520933879339334    -0.206467772701863    1.1585611606357964    2.4282553    -0.9299044207050994    -0.3711512804161766   0.11890487188601176  -0.4900561523021884  2.4282553   -0.6988312005996704   -0.2878437340259552   -0.5345746278762817   99878       0         0              -1.7825581982250396   0.005533306923089111   -1.7880915051481288   1.5698935   -160.48793847472396  27.589162658182417  -78.38070567241937   57.76421066762154   57.76421003056191  6.370596314964964e-07    4.3608154e-07  180.72375414912358  0        -1.3189185857772827  0.8813156093858641  -0.7903018593788147   4401.795   -4.640823433510388   -4.640823433510388   nan       nan       -5.309618854522705   -198.32230911254882  -48.23520782470703\n",
       "677  3.2573106481378646   2.2137026339358314   3.148744967640901    1.812492883921312    1.050745370367053     9.713021278381348  1.1312025785446167   -0.9191203713417053  -0.03498087450861931  32.19865945514826   32.198659769203914  -3.1405565121668e-07     5.04319e-07    0.0      21.54974334945573   -1.7587264776229858   20.905123      -0.004074007588229828   -2.8542504               0.016663374        22.090984        -0.36655122087409825   -2.2409532                 0.4098431            19.830896        0.05489917004070952     -3.5862386                 0.4098431            -8.14277480376726    170.2343085995188    0.909421    -0.8930411338806152   2.626863425917633e+22   1282.1752  1.0054736   -0.6275238394737244   1.034234    3.7693525484091794    3.7578791566953673    -0.2190059146437332   3.9768850713391006    2.7561986    -1.767775307312533     1.7920358297247334    0.17764813936483134  1.6143876903599021   2.7561986   -0.22640863060951233  -0.433468759059906    -0.06262025982141495  99897       1         0              0.512121779005605     0.004898367107000539   0.5072234118986044    1.8155484   -199.1630888478725   34.27863511741595   -28.91581930639344   72.14905734016035   72.14905771278723  -3.7262687352547246e-07  5.04319e-07    204.14966419540957  0        -0.4352078139781952  1.035315803776429   0.16094648838043213   4533.121   -51.247183737712234  -51.247183737712234  nan       nan       3.9261128581479183   -277.59097640649327  5.696494128336444\n",
       "678  0.26411054177709836  0.24539035305851573  0.2973659058618345   0.15968213998503117  0.0851969489603543    8.829378128051758  0.945320188999176    -1.3487151861190796  -0.32563573122024536  35.85495989711826   35.8549602904271    -3.933088386264988e-07   2.846336e-07   0.0      21.455110431946277  -1.5585298538208008   20.364681      0.0008218263761016395   -1.3366417               0.012262382        20.276108        -0.21644250444128993   -1.2599249                 0.26641363           20.328588        0.18773063435298895     -1.4739338                 0.26641363           -13.655983988490423  159.63295240619402   2.855254    -0.06979773193597794  2.1299237240088575e+21  256.32266  2.0916967   -0.6132096648216248   2.002991    0.5167124356330225    0.27332072910096816   -0.2267884781892188   0.5001092072901869    1.6750921    0.17761734906933682    0.47311250551210815   0.22626059300545187  0.24685191250665628  1.6750921   -0.40418189764022827  -0.7111912369728088   -0.6041487455368042   99991       1         0              -0.28459530358991986  0.005116558142176689   -0.28971186173209657  1.0246809   -178.04555096862958  66.09801073444817   -46.142679315128845  58.62774848228099   58.62774870405757  -2.2177657977211457e-07  2.846336e-07   195.4438847780941   0        -0.5130423903465271  2.091994004496485   -0.10513915121555328  7735.15    -73.44707433898377   -73.44707433898377   nan       nan       -31.489219320865587  -304.1184333153507   -3.04114398973808"
      ]
     },
     "execution_count": 7,
     "metadata": {},
     "output_type": "execute_result"
    }
   ],
   "source": [
    "survey[~survey.gaia__dr2_g.isna()]"
   ]
  }
 ],
 "metadata": {
  "kernelspec": {
   "display_name": "test_pypi",
   "language": "python",
   "name": "python3"
  },
  "language_info": {
   "codemirror_mode": {
    "name": "ipython",
    "version": 3
   },
   "file_extension": ".py",
   "mimetype": "text/x-python",
   "name": "python",
   "nbconvert_exporter": "python",
   "pygments_lexer": "ipython3",
   "version": "3.10.17"
  }
 },
 "nbformat": 4,
 "nbformat_minor": 5
}
